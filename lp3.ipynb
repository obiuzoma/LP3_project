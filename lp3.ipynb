{
 "cells": [
  {
   "cell_type": "markdown",
   "metadata": {},
   "source": [
    "# Title\n",
    "### Time Series Forecasting"
   ]
  },
  {
   "cell_type": "markdown",
   "metadata": {},
   "source": [
    "# Business Understanding\n",
    "### Introduction\n",
    "\n",
    "\n",
    "This project focuses on time series forecasting to predict store sales for Corporation Favorita, a large Ecuadorian-based grocery retailer. The objective is to build a model that accurately predicts the unit sales for thousands of items sold at different Favorita stores"
   ]
  },
  {
   "cell_type": "markdown",
   "metadata": {},
   "source": [
    "## Hypothesis\n",
    " \n",
    " Null Hypothesis: The type of holiday does not have any significant on the increase of sales\n",
    " \n",
    " Alternative Hypothesis: The type of holiday has significant impact on the increase in sales\n",
    " \n",
    " ## Questions\n",
    "\n",
    "The questions below are to be answered. Do note that, you are free to draw more hypothesis from the data.\n",
    "\n",
    "1. Is the train dataset complete (has all the required dates)?\n",
    "\n",
    "2. Which dates have the lowest and highest sales for each year?\n",
    "\n",
    "3. Did the earthquake impact sales?\n",
    "\n",
    "4. Are certain groups of stores selling more products? (Cluster, city, state, type)\n",
    "\n",
    "5. Are sales affected by promotions, oil prices and holidays?\n",
    "\n",
    "6. What analysis can we get from the date and its extractable features?\n",
    "\n",
    "7. What is the difference between RMSLE, RMSE, MSE (or why is the MAE greater than all of them?)\n",
    "\n",
    "Your task is to build a model that more accurately predicts the unit sales for thousands of items."
   ]
  },
  {
   "cell_type": "markdown",
   "metadata": {},
   "source": [
    "# Importing Liberaries"
   ]
  },
  {
   "cell_type": "code",
   "execution_count": 1,
   "metadata": {},
   "outputs": [],
   "source": [
    "import pandas as pd\n",
    "import numpy as np\n",
    "\n",
    "# data visualization\n",
    "import matplotlib.pyplot  as plt \n",
    "import seaborn as sns\n",
    "import matplotlib.dates as mdates\n",
    "import plotly.express as px\n",
    "\n",
    "# impoerting and reading sql file\n",
    "import pyodbc\n",
    "from dotenv import dotenv_values\n",
    "\n",
    "\n",
    "\n",
    "# Statistical Analysis\n",
    "from statsmodels.tsa.stattools import adfuller\n",
    "from statsmodels.tsa.stattools import kpss\n",
    "from scipy.stats import ttest_ind\n",
    "import scipy.stats as stats\n",
    "from sklearn.metrics import mean_squared_error, mean_absolute_error, mean_squared_log_error\n",
    "from statsmodels.tsa.seasonal import STL\n",
    "\n",
    "\n",
    "# Feature processing\n",
    "from sklearn.impute import SimpleImputer\n",
    "from sklearn.preprocessing import OneHotEncoder\n",
    "from sklearn.preprocessing import StandardScaler\n",
    "\n",
    "# Modelling\n",
    "from sklearn.linear_model import LinearRegression\n",
    "from sklearn.ensemble import RandomForestRegressor, GradientBoostingRegressor\n",
    "from statsmodels.tsa.arima.model import ARIMA\n",
    "from statsmodels.tsa.statespace.sarimax import SARIMAX\n",
    "from sklearn.model_selection import RandomizedSearchCV\n",
    "import pickle\n",
    "from sklearn.tree import DecisionTreeRegressor\n",
    "from xgboost import XGBRegressor\n",
    "\n",
    "\n",
    "\n",
    "# cancelling warning messages\n",
    "import warnings\n",
    "warnings.filterwarnings(\"ignore\")\n",
    "\n"
   ]
  },
  {
   "cell_type": "markdown",
   "metadata": {},
   "source": [
    "#### Loading the data set from SQL server"
   ]
  },
  {
   "cell_type": "code",
   "execution_count": null,
   "metadata": {},
   "outputs": [],
   "source": [
    "# # create dotenv environment\n",
    "# environment_variables = dotenv_values()\n",
    "\n",
    "# # get varriable from .env created\n",
    "# server = environment_variables.get(\"SERVER\")\n",
    "# database = environment_variables.get(\"DATABASE\")\n",
    "# username = environment_variables.get(\"USERNAME\")\n",
    "# password =environment_variables.get(\"PASSWORD\")\n",
    "\n",
    "\n"
   ]
  },
  {
   "cell_type": "code",
   "execution_count": 3,
   "metadata": {},
   "outputs": [],
   "source": [
    "# create  connections to the server using sever name, username, database and password\n",
    "# conn_str = f\"DRIVER={{SQL Server}};SERVER={server};DATABASE={database};UID={username};PWD={password}\""
   ]
  },
  {
   "cell_type": "code",
   "execution_count": 4,
   "metadata": {},
   "outputs": [],
   "source": [
    "# Use the connect method of the pyodbc library and pass in the connection string.\n",
    "# This will connect to the server \n",
    "\n",
    "\n",
    "# connection = pyodbc.connect(conn_str)"
   ]
  },
  {
   "cell_type": "code",
   "execution_count": 5,
   "metadata": {},
   "outputs": [],
   "source": [
    "# # read data from oil table\n",
    "# query = \"SELECT * From dbo.oil\"\n",
    "# oil_df = pd.read_sql(query,connection, parse_dates=[\"date\"])\n",
    "\n",
    "# # read data from holiday table \n",
    "# query2= \"SELECT * from dbo.holidays_events\"\n",
    "# holiday_df=pd.read_sql(query2,connection, parse_dates=[\"date\"])\n",
    "\n",
    "# # read data from store table\n",
    "# query3= \"SELECT * from dbo.stores\"\n",
    "# stores_df=pd.read_sql(query3,connection)\n",
    "\n",
    "\n",
    "\n"
   ]
  },
  {
   "cell_type": "code",
   "execution_count": 2,
   "metadata": {},
   "outputs": [],
   "source": [
    "# converting the sql data to csv\n",
    "oil_df =pd.read_csv(\"oil_data.csv\", parse_dates=[\"date\"])\n",
    "holiday_df = pd.read_csv(\"holiday_data.csv\", parse_dates=[\"date\"])\n",
    "stores_df = pd.read_csv(\"stores_data.csv\")"
   ]
  },
  {
   "cell_type": "code",
   "execution_count": 3,
   "metadata": {},
   "outputs": [
    {
     "data": {
      "text/html": [
       "<div>\n",
       "<style scoped>\n",
       "    .dataframe tbody tr th:only-of-type {\n",
       "        vertical-align: middle;\n",
       "    }\n",
       "\n",
       "    .dataframe tbody tr th {\n",
       "        vertical-align: top;\n",
       "    }\n",
       "\n",
       "    .dataframe thead th {\n",
       "        text-align: right;\n",
       "    }\n",
       "</style>\n",
       "<table border=\"1\" class=\"dataframe\">\n",
       "  <thead>\n",
       "    <tr style=\"text-align: right;\">\n",
       "      <th></th>\n",
       "      <th>Unnamed: 0</th>\n",
       "      <th>date</th>\n",
       "      <th>dcoilwtico</th>\n",
       "    </tr>\n",
       "  </thead>\n",
       "  <tbody>\n",
       "    <tr>\n",
       "      <th>0</th>\n",
       "      <td>0</td>\n",
       "      <td>2013-01-01</td>\n",
       "      <td>NaN</td>\n",
       "    </tr>\n",
       "    <tr>\n",
       "      <th>1</th>\n",
       "      <td>1</td>\n",
       "      <td>2013-01-02</td>\n",
       "      <td>93.139999</td>\n",
       "    </tr>\n",
       "    <tr>\n",
       "      <th>2</th>\n",
       "      <td>2</td>\n",
       "      <td>2013-01-03</td>\n",
       "      <td>92.970001</td>\n",
       "    </tr>\n",
       "    <tr>\n",
       "      <th>3</th>\n",
       "      <td>3</td>\n",
       "      <td>2013-01-04</td>\n",
       "      <td>93.120003</td>\n",
       "    </tr>\n",
       "    <tr>\n",
       "      <th>4</th>\n",
       "      <td>4</td>\n",
       "      <td>2013-01-07</td>\n",
       "      <td>93.199997</td>\n",
       "    </tr>\n",
       "  </tbody>\n",
       "</table>\n",
       "</div>"
      ],
      "text/plain": [
       "   Unnamed: 0       date  dcoilwtico\n",
       "0           0 2013-01-01         NaN\n",
       "1           1 2013-01-02   93.139999\n",
       "2           2 2013-01-03   92.970001\n",
       "3           3 2013-01-04   93.120003\n",
       "4           4 2013-01-07   93.199997"
      ]
     },
     "execution_count": 3,
     "metadata": {},
     "output_type": "execute_result"
    }
   ],
   "source": [
    "#  Display dbo oil\n",
    "oil_df.head(5)"
   ]
  },
  {
   "cell_type": "code",
   "execution_count": 37,
   "metadata": {},
   "outputs": [
    {
     "data": {
      "text/html": [
       "<div>\n",
       "<style scoped>\n",
       "    .dataframe tbody tr th:only-of-type {\n",
       "        vertical-align: middle;\n",
       "    }\n",
       "\n",
       "    .dataframe tbody tr th {\n",
       "        vertical-align: top;\n",
       "    }\n",
       "\n",
       "    .dataframe thead th {\n",
       "        text-align: right;\n",
       "    }\n",
       "</style>\n",
       "<table border=\"1\" class=\"dataframe\">\n",
       "  <thead>\n",
       "    <tr style=\"text-align: right;\">\n",
       "      <th></th>\n",
       "      <th>date</th>\n",
       "      <th>type</th>\n",
       "      <th>locale</th>\n",
       "      <th>locale_name</th>\n",
       "      <th>description</th>\n",
       "      <th>transferred</th>\n",
       "    </tr>\n",
       "  </thead>\n",
       "  <tbody>\n",
       "    <tr>\n",
       "      <th>0</th>\n",
       "      <td>2012-03-02</td>\n",
       "      <td>Holiday</td>\n",
       "      <td>Local</td>\n",
       "      <td>Manta</td>\n",
       "      <td>Fundacion de Manta</td>\n",
       "      <td>False</td>\n",
       "    </tr>\n",
       "    <tr>\n",
       "      <th>1</th>\n",
       "      <td>2012-04-01</td>\n",
       "      <td>Holiday</td>\n",
       "      <td>Regional</td>\n",
       "      <td>Cotopaxi</td>\n",
       "      <td>Provincializacion de Cotopaxi</td>\n",
       "      <td>False</td>\n",
       "    </tr>\n",
       "    <tr>\n",
       "      <th>2</th>\n",
       "      <td>2012-04-12</td>\n",
       "      <td>Holiday</td>\n",
       "      <td>Local</td>\n",
       "      <td>Cuenca</td>\n",
       "      <td>Fundacion de Cuenca</td>\n",
       "      <td>False</td>\n",
       "    </tr>\n",
       "    <tr>\n",
       "      <th>3</th>\n",
       "      <td>2012-04-14</td>\n",
       "      <td>Holiday</td>\n",
       "      <td>Local</td>\n",
       "      <td>Libertad</td>\n",
       "      <td>Cantonizacion de Libertad</td>\n",
       "      <td>False</td>\n",
       "    </tr>\n",
       "    <tr>\n",
       "      <th>4</th>\n",
       "      <td>2012-04-21</td>\n",
       "      <td>Holiday</td>\n",
       "      <td>Local</td>\n",
       "      <td>Riobamba</td>\n",
       "      <td>Cantonizacion de Riobamba</td>\n",
       "      <td>False</td>\n",
       "    </tr>\n",
       "  </tbody>\n",
       "</table>\n",
       "</div>"
      ],
      "text/plain": [
       "        date     type    locale locale_name                    description  \\\n",
       "0 2012-03-02  Holiday     Local       Manta             Fundacion de Manta   \n",
       "1 2012-04-01  Holiday  Regional    Cotopaxi  Provincializacion de Cotopaxi   \n",
       "2 2012-04-12  Holiday     Local      Cuenca            Fundacion de Cuenca   \n",
       "3 2012-04-14  Holiday     Local    Libertad      Cantonizacion de Libertad   \n",
       "4 2012-04-21  Holiday     Local    Riobamba      Cantonizacion de Riobamba   \n",
       "\n",
       "   transferred  \n",
       "0        False  \n",
       "1        False  \n",
       "2        False  \n",
       "3        False  \n",
       "4        False  "
      ]
     },
     "execution_count": 37,
     "metadata": {},
     "output_type": "execute_result"
    }
   ],
   "source": [
    "#  Display the holiday events\n",
    "holiday_df.head(5)"
   ]
  },
  {
   "cell_type": "code",
   "execution_count": 36,
   "metadata": {},
   "outputs": [
    {
     "data": {
      "text/html": [
       "<div>\n",
       "<style scoped>\n",
       "    .dataframe tbody tr th:only-of-type {\n",
       "        vertical-align: middle;\n",
       "    }\n",
       "\n",
       "    .dataframe tbody tr th {\n",
       "        vertical-align: top;\n",
       "    }\n",
       "\n",
       "    .dataframe thead th {\n",
       "        text-align: right;\n",
       "    }\n",
       "</style>\n",
       "<table border=\"1\" class=\"dataframe\">\n",
       "  <thead>\n",
       "    <tr style=\"text-align: right;\">\n",
       "      <th></th>\n",
       "      <th>store_nbr</th>\n",
       "      <th>city</th>\n",
       "      <th>state</th>\n",
       "      <th>type</th>\n",
       "      <th>cluster</th>\n",
       "    </tr>\n",
       "  </thead>\n",
       "  <tbody>\n",
       "    <tr>\n",
       "      <th>0</th>\n",
       "      <td>1</td>\n",
       "      <td>Quito</td>\n",
       "      <td>Pichincha</td>\n",
       "      <td>D</td>\n",
       "      <td>13</td>\n",
       "    </tr>\n",
       "    <tr>\n",
       "      <th>1</th>\n",
       "      <td>2</td>\n",
       "      <td>Quito</td>\n",
       "      <td>Pichincha</td>\n",
       "      <td>D</td>\n",
       "      <td>13</td>\n",
       "    </tr>\n",
       "    <tr>\n",
       "      <th>2</th>\n",
       "      <td>3</td>\n",
       "      <td>Quito</td>\n",
       "      <td>Pichincha</td>\n",
       "      <td>D</td>\n",
       "      <td>8</td>\n",
       "    </tr>\n",
       "    <tr>\n",
       "      <th>3</th>\n",
       "      <td>4</td>\n",
       "      <td>Quito</td>\n",
       "      <td>Pichincha</td>\n",
       "      <td>D</td>\n",
       "      <td>9</td>\n",
       "    </tr>\n",
       "    <tr>\n",
       "      <th>4</th>\n",
       "      <td>5</td>\n",
       "      <td>Santo Domingo</td>\n",
       "      <td>Santo Domingo de los Tsachilas</td>\n",
       "      <td>D</td>\n",
       "      <td>4</td>\n",
       "    </tr>\n",
       "  </tbody>\n",
       "</table>\n",
       "</div>"
      ],
      "text/plain": [
       "   store_nbr           city                           state type  cluster\n",
       "0          1          Quito                       Pichincha    D       13\n",
       "1          2          Quito                       Pichincha    D       13\n",
       "2          3          Quito                       Pichincha    D        8\n",
       "3          4          Quito                       Pichincha    D        9\n",
       "4          5  Santo Domingo  Santo Domingo de los Tsachilas    D        4"
      ]
     },
     "execution_count": 36,
     "metadata": {},
     "output_type": "execute_result"
    }
   ],
   "source": [
    "#  Display stores\n",
    "stores_df.head(5)"
   ]
  },
  {
   "cell_type": "code",
   "execution_count": 3,
   "metadata": {},
   "outputs": [],
   "source": [
    "# drop the unnamed column in the tables\n",
    "stores_df.drop(columns=\"Unnamed: 0\",axis=1, inplace=True)\n",
    "holiday_df.drop(columns=\"Unnamed: 0\",axis=1, inplace=True)\n",
    "oil_df.drop(columns=\"Unnamed: 0\", axis=1, inplace=True)"
   ]
  },
  {
   "cell_type": "markdown",
   "metadata": {},
   "source": [
    "#  loading of csv data set"
   ]
  },
  {
   "cell_type": "code",
   "execution_count": 4,
   "metadata": {},
   "outputs": [],
   "source": [
    "# reading the csv file and seting the date as date type\n",
    "test_data = pd.read_csv(\"test.csv\", parse_dates=[\"date\"])\n",
    "train_data = pd.read_csv(\"train.csv\", parse_dates=[\"date\"])\n",
    "transactions = pd.read_csv(\"transactions.csv\",parse_dates=[\"date\"])\n",
    "sample_data = pd.read_csv(\"sample_submission.csv\")"
   ]
  },
  {
   "cell_type": "code",
   "execution_count": 5,
   "metadata": {},
   "outputs": [
    {
     "data": {
      "text/html": [
       "<div>\n",
       "<style scoped>\n",
       "    .dataframe tbody tr th:only-of-type {\n",
       "        vertical-align: middle;\n",
       "    }\n",
       "\n",
       "    .dataframe tbody tr th {\n",
       "        vertical-align: top;\n",
       "    }\n",
       "\n",
       "    .dataframe thead th {\n",
       "        text-align: right;\n",
       "    }\n",
       "</style>\n",
       "<table border=\"1\" class=\"dataframe\">\n",
       "  <thead>\n",
       "    <tr style=\"text-align: right;\">\n",
       "      <th></th>\n",
       "      <th>id</th>\n",
       "      <th>date</th>\n",
       "      <th>store_nbr</th>\n",
       "      <th>family</th>\n",
       "      <th>sales</th>\n",
       "      <th>onpromotion</th>\n",
       "    </tr>\n",
       "  </thead>\n",
       "  <tbody>\n",
       "    <tr>\n",
       "      <th>0</th>\n",
       "      <td>0</td>\n",
       "      <td>2013-01-01</td>\n",
       "      <td>1</td>\n",
       "      <td>AUTOMOTIVE</td>\n",
       "      <td>0.000</td>\n",
       "      <td>0</td>\n",
       "    </tr>\n",
       "    <tr>\n",
       "      <th>1</th>\n",
       "      <td>1</td>\n",
       "      <td>2013-01-01</td>\n",
       "      <td>1</td>\n",
       "      <td>BABY CARE</td>\n",
       "      <td>0.000</td>\n",
       "      <td>0</td>\n",
       "    </tr>\n",
       "    <tr>\n",
       "      <th>2</th>\n",
       "      <td>2</td>\n",
       "      <td>2013-01-01</td>\n",
       "      <td>1</td>\n",
       "      <td>BEAUTY</td>\n",
       "      <td>0.000</td>\n",
       "      <td>0</td>\n",
       "    </tr>\n",
       "    <tr>\n",
       "      <th>3</th>\n",
       "      <td>3</td>\n",
       "      <td>2013-01-01</td>\n",
       "      <td>1</td>\n",
       "      <td>BEVERAGES</td>\n",
       "      <td>0.000</td>\n",
       "      <td>0</td>\n",
       "    </tr>\n",
       "    <tr>\n",
       "      <th>4</th>\n",
       "      <td>4</td>\n",
       "      <td>2013-01-01</td>\n",
       "      <td>1</td>\n",
       "      <td>BOOKS</td>\n",
       "      <td>0.000</td>\n",
       "      <td>0</td>\n",
       "    </tr>\n",
       "    <tr>\n",
       "      <th>...</th>\n",
       "      <td>...</td>\n",
       "      <td>...</td>\n",
       "      <td>...</td>\n",
       "      <td>...</td>\n",
       "      <td>...</td>\n",
       "      <td>...</td>\n",
       "    </tr>\n",
       "    <tr>\n",
       "      <th>3000883</th>\n",
       "      <td>3000883</td>\n",
       "      <td>2017-08-15</td>\n",
       "      <td>9</td>\n",
       "      <td>POULTRY</td>\n",
       "      <td>438.133</td>\n",
       "      <td>0</td>\n",
       "    </tr>\n",
       "    <tr>\n",
       "      <th>3000884</th>\n",
       "      <td>3000884</td>\n",
       "      <td>2017-08-15</td>\n",
       "      <td>9</td>\n",
       "      <td>PREPARED FOODS</td>\n",
       "      <td>154.553</td>\n",
       "      <td>1</td>\n",
       "    </tr>\n",
       "    <tr>\n",
       "      <th>3000885</th>\n",
       "      <td>3000885</td>\n",
       "      <td>2017-08-15</td>\n",
       "      <td>9</td>\n",
       "      <td>PRODUCE</td>\n",
       "      <td>2419.729</td>\n",
       "      <td>148</td>\n",
       "    </tr>\n",
       "    <tr>\n",
       "      <th>3000886</th>\n",
       "      <td>3000886</td>\n",
       "      <td>2017-08-15</td>\n",
       "      <td>9</td>\n",
       "      <td>SCHOOL AND OFFICE SUPPLIES</td>\n",
       "      <td>121.000</td>\n",
       "      <td>8</td>\n",
       "    </tr>\n",
       "    <tr>\n",
       "      <th>3000887</th>\n",
       "      <td>3000887</td>\n",
       "      <td>2017-08-15</td>\n",
       "      <td>9</td>\n",
       "      <td>SEAFOOD</td>\n",
       "      <td>16.000</td>\n",
       "      <td>0</td>\n",
       "    </tr>\n",
       "  </tbody>\n",
       "</table>\n",
       "<p>3000888 rows × 6 columns</p>\n",
       "</div>"
      ],
      "text/plain": [
       "              id       date  store_nbr                      family     sales  \\\n",
       "0              0 2013-01-01          1                  AUTOMOTIVE     0.000   \n",
       "1              1 2013-01-01          1                   BABY CARE     0.000   \n",
       "2              2 2013-01-01          1                      BEAUTY     0.000   \n",
       "3              3 2013-01-01          1                   BEVERAGES     0.000   \n",
       "4              4 2013-01-01          1                       BOOKS     0.000   \n",
       "...          ...        ...        ...                         ...       ...   \n",
       "3000883  3000883 2017-08-15          9                     POULTRY   438.133   \n",
       "3000884  3000884 2017-08-15          9              PREPARED FOODS   154.553   \n",
       "3000885  3000885 2017-08-15          9                     PRODUCE  2419.729   \n",
       "3000886  3000886 2017-08-15          9  SCHOOL AND OFFICE SUPPLIES   121.000   \n",
       "3000887  3000887 2017-08-15          9                     SEAFOOD    16.000   \n",
       "\n",
       "         onpromotion  \n",
       "0                  0  \n",
       "1                  0  \n",
       "2                  0  \n",
       "3                  0  \n",
       "4                  0  \n",
       "...              ...  \n",
       "3000883            0  \n",
       "3000884            1  \n",
       "3000885          148  \n",
       "3000886            8  \n",
       "3000887            0  \n",
       "\n",
       "[3000888 rows x 6 columns]"
      ]
     },
     "execution_count": 5,
     "metadata": {},
     "output_type": "execute_result"
    }
   ],
   "source": [
    "train_data"
   ]
  },
  {
   "cell_type": "markdown",
   "metadata": {},
   "source": [
    "# Data Exploration and Understanding"
   ]
  },
  {
   "cell_type": "markdown",
   "metadata": {},
   "source": [
    "Exploring and understanding the sql data"
   ]
  },
  {
   "cell_type": "code",
   "execution_count": 5,
   "metadata": {},
   "outputs": [
    {
     "name": "stdout",
     "output_type": "stream",
     "text": [
      "statistics summary for holiday event:\n"
     ]
    },
    {
     "data": {
      "text/html": [
       "<div>\n",
       "<style scoped>\n",
       "    .dataframe tbody tr th:only-of-type {\n",
       "        vertical-align: middle;\n",
       "    }\n",
       "\n",
       "    .dataframe tbody tr th {\n",
       "        vertical-align: top;\n",
       "    }\n",
       "\n",
       "    .dataframe thead th {\n",
       "        text-align: right;\n",
       "    }\n",
       "</style>\n",
       "<table border=\"1\" class=\"dataframe\">\n",
       "  <thead>\n",
       "    <tr style=\"text-align: right;\">\n",
       "      <th></th>\n",
       "      <th>count</th>\n",
       "      <th>unique</th>\n",
       "      <th>top</th>\n",
       "      <th>freq</th>\n",
       "    </tr>\n",
       "  </thead>\n",
       "  <tbody>\n",
       "    <tr>\n",
       "      <th>type</th>\n",
       "      <td>350</td>\n",
       "      <td>6</td>\n",
       "      <td>Holiday</td>\n",
       "      <td>221</td>\n",
       "    </tr>\n",
       "    <tr>\n",
       "      <th>locale</th>\n",
       "      <td>350</td>\n",
       "      <td>3</td>\n",
       "      <td>National</td>\n",
       "      <td>174</td>\n",
       "    </tr>\n",
       "    <tr>\n",
       "      <th>locale_name</th>\n",
       "      <td>350</td>\n",
       "      <td>24</td>\n",
       "      <td>Ecuador</td>\n",
       "      <td>174</td>\n",
       "    </tr>\n",
       "    <tr>\n",
       "      <th>description</th>\n",
       "      <td>350</td>\n",
       "      <td>103</td>\n",
       "      <td>Carnaval</td>\n",
       "      <td>10</td>\n",
       "    </tr>\n",
       "  </tbody>\n",
       "</table>\n",
       "</div>"
      ],
      "text/plain": [
       "            count unique       top freq\n",
       "type          350      6   Holiday  221\n",
       "locale        350      3  National  174\n",
       "locale_name   350     24   Ecuador  174\n",
       "description   350    103  Carnaval   10"
      ]
     },
     "metadata": {},
     "output_type": "display_data"
    },
    {
     "name": "stdout",
     "output_type": "stream",
     "text": [
      "==================================================\n",
      "Statistics summary for oil price\n"
     ]
    },
    {
     "data": {
      "text/html": [
       "<div>\n",
       "<style scoped>\n",
       "    .dataframe tbody tr th:only-of-type {\n",
       "        vertical-align: middle;\n",
       "    }\n",
       "\n",
       "    .dataframe tbody tr th {\n",
       "        vertical-align: top;\n",
       "    }\n",
       "\n",
       "    .dataframe thead th {\n",
       "        text-align: right;\n",
       "    }\n",
       "</style>\n",
       "<table border=\"1\" class=\"dataframe\">\n",
       "  <thead>\n",
       "    <tr style=\"text-align: right;\">\n",
       "      <th></th>\n",
       "      <th>dcoilwtico</th>\n",
       "    </tr>\n",
       "  </thead>\n",
       "  <tbody>\n",
       "    <tr>\n",
       "      <th>count</th>\n",
       "      <td>1175.000000</td>\n",
       "    </tr>\n",
       "    <tr>\n",
       "      <th>mean</th>\n",
       "      <td>67.714366</td>\n",
       "    </tr>\n",
       "    <tr>\n",
       "      <th>std</th>\n",
       "      <td>25.630476</td>\n",
       "    </tr>\n",
       "    <tr>\n",
       "      <th>min</th>\n",
       "      <td>26.190001</td>\n",
       "    </tr>\n",
       "    <tr>\n",
       "      <th>25%</th>\n",
       "      <td>46.405001</td>\n",
       "    </tr>\n",
       "    <tr>\n",
       "      <th>50%</th>\n",
       "      <td>53.189999</td>\n",
       "    </tr>\n",
       "    <tr>\n",
       "      <th>75%</th>\n",
       "      <td>95.660000</td>\n",
       "    </tr>\n",
       "    <tr>\n",
       "      <th>max</th>\n",
       "      <td>110.620003</td>\n",
       "    </tr>\n",
       "  </tbody>\n",
       "</table>\n",
       "</div>"
      ],
      "text/plain": [
       "        dcoilwtico\n",
       "count  1175.000000\n",
       "mean     67.714366\n",
       "std      25.630476\n",
       "min      26.190001\n",
       "25%      46.405001\n",
       "50%      53.189999\n",
       "75%      95.660000\n",
       "max     110.620003"
      ]
     },
     "metadata": {},
     "output_type": "display_data"
    },
    {
     "name": "stdout",
     "output_type": "stream",
     "text": [
      "==================================================\n",
      "statistics summary of stores\n"
     ]
    },
    {
     "data": {
      "text/html": [
       "<div>\n",
       "<style scoped>\n",
       "    .dataframe tbody tr th:only-of-type {\n",
       "        vertical-align: middle;\n",
       "    }\n",
       "\n",
       "    .dataframe tbody tr th {\n",
       "        vertical-align: top;\n",
       "    }\n",
       "\n",
       "    .dataframe thead th {\n",
       "        text-align: right;\n",
       "    }\n",
       "</style>\n",
       "<table border=\"1\" class=\"dataframe\">\n",
       "  <thead>\n",
       "    <tr style=\"text-align: right;\">\n",
       "      <th></th>\n",
       "      <th>count</th>\n",
       "      <th>unique</th>\n",
       "      <th>top</th>\n",
       "      <th>freq</th>\n",
       "    </tr>\n",
       "  </thead>\n",
       "  <tbody>\n",
       "    <tr>\n",
       "      <th>city</th>\n",
       "      <td>54</td>\n",
       "      <td>22</td>\n",
       "      <td>Quito</td>\n",
       "      <td>18</td>\n",
       "    </tr>\n",
       "    <tr>\n",
       "      <th>state</th>\n",
       "      <td>54</td>\n",
       "      <td>16</td>\n",
       "      <td>Pichincha</td>\n",
       "      <td>19</td>\n",
       "    </tr>\n",
       "    <tr>\n",
       "      <th>type</th>\n",
       "      <td>54</td>\n",
       "      <td>5</td>\n",
       "      <td>D</td>\n",
       "      <td>18</td>\n",
       "    </tr>\n",
       "  </tbody>\n",
       "</table>\n",
       "</div>"
      ],
      "text/plain": [
       "      count unique        top freq\n",
       "city     54     22      Quito   18\n",
       "state    54     16  Pichincha   19\n",
       "type     54      5          D   18"
      ]
     },
     "metadata": {},
     "output_type": "display_data"
    }
   ],
   "source": [
    "# Display summary statistics for the holiday events\n",
    "holiday_summary = holiday_df.describe(include=object).T\n",
    "\n",
    "# Display summary statistics for the oil price\n",
    "oil_summary = oil_df.describe()\n",
    "\n",
    "# Display summary statistics for the stotres\n",
    "stores_summary = stores_df.describe(include=object).T\n",
    "\n",
    "# Display results\n",
    "print(\"statistics summary for holiday event:\" )\n",
    "display(holiday_summary)\n",
    "print(\"=\" *50)\n",
    "\n",
    "print(\"Statistics summary for oil price\")\n",
    "display(oil_summary)\n",
    "print(\"=\" *50)\n",
    "\n",
    "print(\"statistics summary of stores\")\n",
    "display(stores_summary)\n"
   ]
  },
  {
   "cell_type": "code",
   "execution_count": 12,
   "metadata": {},
   "outputs": [
    {
     "name": "stdout",
     "output_type": "stream",
     "text": [
      "Display holiday info:\n",
      "==================================================\n",
      "<class 'pandas.core.frame.DataFrame'>\n",
      "RangeIndex: 350 entries, 0 to 349\n",
      "Data columns (total 7 columns):\n",
      " #   Column       Non-Null Count  Dtype         \n",
      "---  ------       --------------  -----         \n",
      " 0   Unnamed: 0   350 non-null    int64         \n",
      " 1   date         350 non-null    datetime64[ns]\n",
      " 2   type         350 non-null    object        \n",
      " 3   locale       350 non-null    object        \n",
      " 4   locale_name  350 non-null    object        \n",
      " 5   description  350 non-null    object        \n",
      " 6   transferred  350 non-null    bool          \n",
      "dtypes: bool(1), datetime64[ns](1), int64(1), object(4)\n",
      "memory usage: 16.9+ KB\n"
     ]
    },
    {
     "data": {
      "text/plain": [
       "None"
      ]
     },
     "metadata": {},
     "output_type": "display_data"
    },
    {
     "name": "stdout",
     "output_type": "stream",
     "text": [
      "Display oil info:\n",
      "==================================================\n",
      "<class 'pandas.core.frame.DataFrame'>\n",
      "RangeIndex: 1218 entries, 0 to 1217\n",
      "Data columns (total 3 columns):\n",
      " #   Column      Non-Null Count  Dtype         \n",
      "---  ------      --------------  -----         \n",
      " 0   Unnamed: 0  1218 non-null   int64         \n",
      " 1   date        1218 non-null   datetime64[ns]\n",
      " 2   dcoilwtico  1175 non-null   float64       \n",
      "dtypes: datetime64[ns](1), float64(1), int64(1)\n",
      "memory usage: 28.7 KB\n"
     ]
    },
    {
     "data": {
      "text/plain": [
       "None"
      ]
     },
     "metadata": {},
     "output_type": "display_data"
    },
    {
     "name": "stdout",
     "output_type": "stream",
     "text": [
      "Display stores info:\n",
      "==================================================\n",
      "<class 'pandas.core.frame.DataFrame'>\n",
      "RangeIndex: 54 entries, 0 to 53\n",
      "Data columns (total 6 columns):\n",
      " #   Column      Non-Null Count  Dtype \n",
      "---  ------      --------------  ----- \n",
      " 0   Unnamed: 0  54 non-null     int64 \n",
      " 1   store_nbr   54 non-null     int64 \n",
      " 2   city        54 non-null     object\n",
      " 3   state       54 non-null     object\n",
      " 4   type        54 non-null     object\n",
      " 5   cluster     54 non-null     int64 \n",
      "dtypes: int64(3), object(3)\n",
      "memory usage: 2.7+ KB\n"
     ]
    },
    {
     "data": {
      "text/plain": [
       "None"
      ]
     },
     "metadata": {},
     "output_type": "display_data"
    }
   ],
   "source": [
    "# Display infomation for the holiday events\n",
    "\n",
    "# Display info for the oil price\n",
    "print(\"Display holiday info:\" )\n",
    "print(\"=\" *50)\n",
    "holiday_info =holiday_df.info()\n",
    "display(holiday_info)\n",
    "\n",
    "# Display info for the stotres\n",
    "print(\"Display oil info:\" )\n",
    "print(\"=\" *50)\n",
    "oil_info =oil_df.info()\n",
    "display(oil_info)\n",
    "\n",
    "# Display info for the stotres\n",
    "print(\"Display stores info:\" )\n",
    "print(\"=\" *50)\n",
    "stores_info = stores_df.info()\n",
    "display(stores_info)\n"
   ]
  },
  {
   "cell_type": "code",
   "execution_count": 13,
   "metadata": {},
   "outputs": [
    {
     "name": "stdout",
     "output_type": "stream",
     "text": [
      "display Null values in Holidyas event:\n",
      "==================================================\n"
     ]
    },
    {
     "data": {
      "text/plain": [
       "Unnamed: 0     0\n",
       "date           0\n",
       "type           0\n",
       "locale         0\n",
       "locale_name    0\n",
       "description    0\n",
       "transferred    0\n",
       "dtype: int64"
      ]
     },
     "metadata": {},
     "output_type": "display_data"
    },
    {
     "name": "stdout",
     "output_type": "stream",
     "text": [
      "display Null values in oil price:\n",
      "==================================================\n"
     ]
    },
    {
     "data": {
      "text/plain": [
       "Unnamed: 0     0\n",
       "date           0\n",
       "dcoilwtico    43\n",
       "dtype: int64"
      ]
     },
     "metadata": {},
     "output_type": "display_data"
    },
    {
     "name": "stdout",
     "output_type": "stream",
     "text": [
      "display Null values in stores data:\n",
      "==================================================\n"
     ]
    },
    {
     "data": {
      "text/plain": [
       "Unnamed: 0    0\n",
       "store_nbr     0\n",
       "city          0\n",
       "state         0\n",
       "type          0\n",
       "cluster       0\n",
       "dtype: int64"
      ]
     },
     "metadata": {},
     "output_type": "display_data"
    }
   ],
   "source": [
    "# Display the null values in Holiday Events\n",
    "\n",
    "print(\"display Null values in Holidyas event:\")\n",
    "print(\"=\" * 50)\n",
    "holiday_isnull = holiday_df.isna().sum()\n",
    "display(holiday_isnull)\n",
    "\n",
    "print(\"display Null values in oil price:\")\n",
    "print(\"=\" * 50)\n",
    "oil_isnull = oil_df.isna().sum()\n",
    "display(oil_isnull)\n",
    "\n",
    "print(\"display Null values in stores data:\")\n",
    "print(\"=\" * 50)\n",
    "stores_isnull = stores_df.isna().sum()\n",
    "display(stores_isnull)"
   ]
  },
  {
   "cell_type": "code",
   "execution_count": 7,
   "metadata": {},
   "outputs": [
    {
     "name": "stdout",
     "output_type": "stream",
     "text": [
      "Shapes of Each Dataset:\n",
      "Holiday Events Dataset: (350, 7)\n",
      "Oil Dataset: (1218, 3)\n",
      "Stores Dataset: (54, 6)\n"
     ]
    }
   ],
   "source": [
    "# Print out the shapes of the other datasets\n",
    "print(\"Shapes of Each Dataset:\")\n",
    "print(f\"Holiday Events Dataset: {holiday_df.shape}\")\n",
    "print(f\"Oil Dataset: {oil_df.shape}\")\n",
    "print(f\"Stores Dataset: {stores_df.shape}\")"
   ]
  },
  {
   "cell_type": "markdown",
   "metadata": {},
   "source": [
    "#### Exploring and understanding the csv data \"transaction\", \"train\" and \"test data\""
   ]
  },
  {
   "cell_type": "code",
   "execution_count": 8,
   "metadata": {},
   "outputs": [
    {
     "name": "stdout",
     "output_type": "stream",
     "text": [
      "statistics summary for transactions:\n"
     ]
    },
    {
     "data": {
      "text/html": [
       "<div>\n",
       "<style scoped>\n",
       "    .dataframe tbody tr th:only-of-type {\n",
       "        vertical-align: middle;\n",
       "    }\n",
       "\n",
       "    .dataframe tbody tr th {\n",
       "        vertical-align: top;\n",
       "    }\n",
       "\n",
       "    .dataframe thead th {\n",
       "        text-align: right;\n",
       "    }\n",
       "</style>\n",
       "<table border=\"1\" class=\"dataframe\">\n",
       "  <thead>\n",
       "    <tr style=\"text-align: right;\">\n",
       "      <th></th>\n",
       "      <th>store_nbr</th>\n",
       "      <th>transactions</th>\n",
       "    </tr>\n",
       "  </thead>\n",
       "  <tbody>\n",
       "    <tr>\n",
       "      <th>count</th>\n",
       "      <td>83488.000000</td>\n",
       "      <td>83488.000000</td>\n",
       "    </tr>\n",
       "    <tr>\n",
       "      <th>mean</th>\n",
       "      <td>26.939237</td>\n",
       "      <td>1694.602158</td>\n",
       "    </tr>\n",
       "    <tr>\n",
       "      <th>std</th>\n",
       "      <td>15.608204</td>\n",
       "      <td>963.286644</td>\n",
       "    </tr>\n",
       "    <tr>\n",
       "      <th>min</th>\n",
       "      <td>1.000000</td>\n",
       "      <td>5.000000</td>\n",
       "    </tr>\n",
       "    <tr>\n",
       "      <th>25%</th>\n",
       "      <td>13.000000</td>\n",
       "      <td>1046.000000</td>\n",
       "    </tr>\n",
       "    <tr>\n",
       "      <th>50%</th>\n",
       "      <td>27.000000</td>\n",
       "      <td>1393.000000</td>\n",
       "    </tr>\n",
       "    <tr>\n",
       "      <th>75%</th>\n",
       "      <td>40.000000</td>\n",
       "      <td>2079.000000</td>\n",
       "    </tr>\n",
       "    <tr>\n",
       "      <th>max</th>\n",
       "      <td>54.000000</td>\n",
       "      <td>8359.000000</td>\n",
       "    </tr>\n",
       "  </tbody>\n",
       "</table>\n",
       "</div>"
      ],
      "text/plain": [
       "          store_nbr  transactions\n",
       "count  83488.000000  83488.000000\n",
       "mean      26.939237   1694.602158\n",
       "std       15.608204    963.286644\n",
       "min        1.000000      5.000000\n",
       "25%       13.000000   1046.000000\n",
       "50%       27.000000   1393.000000\n",
       "75%       40.000000   2079.000000\n",
       "max       54.000000   8359.000000"
      ]
     },
     "metadata": {},
     "output_type": "display_data"
    },
    {
     "name": "stdout",
     "output_type": "stream",
     "text": [
      "==================================================\n",
      "Statistics summary for train data\n"
     ]
    },
    {
     "data": {
      "text/html": [
       "<div>\n",
       "<style scoped>\n",
       "    .dataframe tbody tr th:only-of-type {\n",
       "        vertical-align: middle;\n",
       "    }\n",
       "\n",
       "    .dataframe tbody tr th {\n",
       "        vertical-align: top;\n",
       "    }\n",
       "\n",
       "    .dataframe thead th {\n",
       "        text-align: right;\n",
       "    }\n",
       "</style>\n",
       "<table border=\"1\" class=\"dataframe\">\n",
       "  <thead>\n",
       "    <tr style=\"text-align: right;\">\n",
       "      <th></th>\n",
       "      <th>count</th>\n",
       "      <th>unique</th>\n",
       "      <th>top</th>\n",
       "      <th>freq</th>\n",
       "    </tr>\n",
       "  </thead>\n",
       "  <tbody>\n",
       "    <tr>\n",
       "      <th>family</th>\n",
       "      <td>3000888</td>\n",
       "      <td>33</td>\n",
       "      <td>AUTOMOTIVE</td>\n",
       "      <td>90936</td>\n",
       "    </tr>\n",
       "  </tbody>\n",
       "</table>\n",
       "</div>"
      ],
      "text/plain": [
       "          count unique         top   freq\n",
       "family  3000888     33  AUTOMOTIVE  90936"
      ]
     },
     "metadata": {},
     "output_type": "display_data"
    },
    {
     "name": "stdout",
     "output_type": "stream",
     "text": [
      "==================================================\n",
      "statistics summary of test\n"
     ]
    },
    {
     "data": {
      "text/html": [
       "<div>\n",
       "<style scoped>\n",
       "    .dataframe tbody tr th:only-of-type {\n",
       "        vertical-align: middle;\n",
       "    }\n",
       "\n",
       "    .dataframe tbody tr th {\n",
       "        vertical-align: top;\n",
       "    }\n",
       "\n",
       "    .dataframe thead th {\n",
       "        text-align: right;\n",
       "    }\n",
       "</style>\n",
       "<table border=\"1\" class=\"dataframe\">\n",
       "  <thead>\n",
       "    <tr style=\"text-align: right;\">\n",
       "      <th></th>\n",
       "      <th>id</th>\n",
       "      <th>store_nbr</th>\n",
       "      <th>onpromotion</th>\n",
       "    </tr>\n",
       "  </thead>\n",
       "  <tbody>\n",
       "    <tr>\n",
       "      <th>count</th>\n",
       "      <td>2.851200e+04</td>\n",
       "      <td>28512.000000</td>\n",
       "      <td>28512.000000</td>\n",
       "    </tr>\n",
       "    <tr>\n",
       "      <th>mean</th>\n",
       "      <td>3.015144e+06</td>\n",
       "      <td>27.500000</td>\n",
       "      <td>6.965383</td>\n",
       "    </tr>\n",
       "    <tr>\n",
       "      <th>std</th>\n",
       "      <td>8.230850e+03</td>\n",
       "      <td>15.586057</td>\n",
       "      <td>20.683952</td>\n",
       "    </tr>\n",
       "    <tr>\n",
       "      <th>min</th>\n",
       "      <td>3.000888e+06</td>\n",
       "      <td>1.000000</td>\n",
       "      <td>0.000000</td>\n",
       "    </tr>\n",
       "    <tr>\n",
       "      <th>25%</th>\n",
       "      <td>3.008016e+06</td>\n",
       "      <td>14.000000</td>\n",
       "      <td>0.000000</td>\n",
       "    </tr>\n",
       "    <tr>\n",
       "      <th>50%</th>\n",
       "      <td>3.015144e+06</td>\n",
       "      <td>27.500000</td>\n",
       "      <td>0.000000</td>\n",
       "    </tr>\n",
       "    <tr>\n",
       "      <th>75%</th>\n",
       "      <td>3.022271e+06</td>\n",
       "      <td>41.000000</td>\n",
       "      <td>6.000000</td>\n",
       "    </tr>\n",
       "    <tr>\n",
       "      <th>max</th>\n",
       "      <td>3.029399e+06</td>\n",
       "      <td>54.000000</td>\n",
       "      <td>646.000000</td>\n",
       "    </tr>\n",
       "  </tbody>\n",
       "</table>\n",
       "</div>"
      ],
      "text/plain": [
       "                 id     store_nbr   onpromotion\n",
       "count  2.851200e+04  28512.000000  28512.000000\n",
       "mean   3.015144e+06     27.500000      6.965383\n",
       "std    8.230850e+03     15.586057     20.683952\n",
       "min    3.000888e+06      1.000000      0.000000\n",
       "25%    3.008016e+06     14.000000      0.000000\n",
       "50%    3.015144e+06     27.500000      0.000000\n",
       "75%    3.022271e+06     41.000000      6.000000\n",
       "max    3.029399e+06     54.000000    646.000000"
      ]
     },
     "metadata": {},
     "output_type": "display_data"
    }
   ],
   "source": [
    "# Display summary statistics for object columns in transaction data\n",
    "transactions_summary = transactions.describe()\n",
    "\n",
    "# Display summary statistics for object colums in train data\n",
    "train_summary = train_data.describe(include=object).T\n",
    "\n",
    "# Display summary statistics for object columns in test data\n",
    "test_summary = test_data.describe()\n",
    "\n",
    "# Display results\n",
    "print(\"statistics summary for transactions:\" )\n",
    "display(transactions_summary)\n",
    "print(\"=\" *50)\n",
    "\n",
    "print(\"Statistics summary for train data\")\n",
    "display(train_summary)\n",
    "print(\"=\" *50)\n",
    "\n",
    "print(\"statistics summary of test\")\n",
    "display(test_summary)\n"
   ]
  },
  {
   "cell_type": "code",
   "execution_count": 16,
   "metadata": {},
   "outputs": [
    {
     "data": {
      "text/html": [
       "<div>\n",
       "<style scoped>\n",
       "    .dataframe tbody tr th:only-of-type {\n",
       "        vertical-align: middle;\n",
       "    }\n",
       "\n",
       "    .dataframe tbody tr th {\n",
       "        vertical-align: top;\n",
       "    }\n",
       "\n",
       "    .dataframe thead th {\n",
       "        text-align: right;\n",
       "    }\n",
       "</style>\n",
       "<table border=\"1\" class=\"dataframe\">\n",
       "  <thead>\n",
       "    <tr style=\"text-align: right;\">\n",
       "      <th></th>\n",
       "      <th>id</th>\n",
       "      <th>date</th>\n",
       "      <th>store_nbr</th>\n",
       "      <th>family</th>\n",
       "      <th>sales</th>\n",
       "      <th>onpromotion</th>\n",
       "    </tr>\n",
       "  </thead>\n",
       "  <tbody>\n",
       "    <tr>\n",
       "      <th>0</th>\n",
       "      <td>0</td>\n",
       "      <td>2013-01-01</td>\n",
       "      <td>1</td>\n",
       "      <td>AUTOMOTIVE</td>\n",
       "      <td>0.000</td>\n",
       "      <td>0</td>\n",
       "    </tr>\n",
       "    <tr>\n",
       "      <th>1</th>\n",
       "      <td>1</td>\n",
       "      <td>2013-01-01</td>\n",
       "      <td>1</td>\n",
       "      <td>BABY CARE</td>\n",
       "      <td>0.000</td>\n",
       "      <td>0</td>\n",
       "    </tr>\n",
       "    <tr>\n",
       "      <th>2</th>\n",
       "      <td>2</td>\n",
       "      <td>2013-01-01</td>\n",
       "      <td>1</td>\n",
       "      <td>BEAUTY</td>\n",
       "      <td>0.000</td>\n",
       "      <td>0</td>\n",
       "    </tr>\n",
       "    <tr>\n",
       "      <th>3</th>\n",
       "      <td>3</td>\n",
       "      <td>2013-01-01</td>\n",
       "      <td>1</td>\n",
       "      <td>BEVERAGES</td>\n",
       "      <td>0.000</td>\n",
       "      <td>0</td>\n",
       "    </tr>\n",
       "    <tr>\n",
       "      <th>4</th>\n",
       "      <td>4</td>\n",
       "      <td>2013-01-01</td>\n",
       "      <td>1</td>\n",
       "      <td>BOOKS</td>\n",
       "      <td>0.000</td>\n",
       "      <td>0</td>\n",
       "    </tr>\n",
       "    <tr>\n",
       "      <th>...</th>\n",
       "      <td>...</td>\n",
       "      <td>...</td>\n",
       "      <td>...</td>\n",
       "      <td>...</td>\n",
       "      <td>...</td>\n",
       "      <td>...</td>\n",
       "    </tr>\n",
       "    <tr>\n",
       "      <th>3000883</th>\n",
       "      <td>3000883</td>\n",
       "      <td>2017-08-15</td>\n",
       "      <td>9</td>\n",
       "      <td>POULTRY</td>\n",
       "      <td>438.133</td>\n",
       "      <td>0</td>\n",
       "    </tr>\n",
       "    <tr>\n",
       "      <th>3000884</th>\n",
       "      <td>3000884</td>\n",
       "      <td>2017-08-15</td>\n",
       "      <td>9</td>\n",
       "      <td>PREPARED FOODS</td>\n",
       "      <td>154.553</td>\n",
       "      <td>1</td>\n",
       "    </tr>\n",
       "    <tr>\n",
       "      <th>3000885</th>\n",
       "      <td>3000885</td>\n",
       "      <td>2017-08-15</td>\n",
       "      <td>9</td>\n",
       "      <td>PRODUCE</td>\n",
       "      <td>2419.729</td>\n",
       "      <td>148</td>\n",
       "    </tr>\n",
       "    <tr>\n",
       "      <th>3000886</th>\n",
       "      <td>3000886</td>\n",
       "      <td>2017-08-15</td>\n",
       "      <td>9</td>\n",
       "      <td>SCHOOL AND OFFICE SUPPLIES</td>\n",
       "      <td>121.000</td>\n",
       "      <td>8</td>\n",
       "    </tr>\n",
       "    <tr>\n",
       "      <th>3000887</th>\n",
       "      <td>3000887</td>\n",
       "      <td>2017-08-15</td>\n",
       "      <td>9</td>\n",
       "      <td>SEAFOOD</td>\n",
       "      <td>16.000</td>\n",
       "      <td>0</td>\n",
       "    </tr>\n",
       "  </tbody>\n",
       "</table>\n",
       "<p>3000888 rows × 6 columns</p>\n",
       "</div>"
      ],
      "text/plain": [
       "              id       date  store_nbr                      family     sales  \\\n",
       "0              0 2013-01-01          1                  AUTOMOTIVE     0.000   \n",
       "1              1 2013-01-01          1                   BABY CARE     0.000   \n",
       "2              2 2013-01-01          1                      BEAUTY     0.000   \n",
       "3              3 2013-01-01          1                   BEVERAGES     0.000   \n",
       "4              4 2013-01-01          1                       BOOKS     0.000   \n",
       "...          ...        ...        ...                         ...       ...   \n",
       "3000883  3000883 2017-08-15          9                     POULTRY   438.133   \n",
       "3000884  3000884 2017-08-15          9              PREPARED FOODS   154.553   \n",
       "3000885  3000885 2017-08-15          9                     PRODUCE  2419.729   \n",
       "3000886  3000886 2017-08-15          9  SCHOOL AND OFFICE SUPPLIES   121.000   \n",
       "3000887  3000887 2017-08-15          9                     SEAFOOD    16.000   \n",
       "\n",
       "         onpromotion  \n",
       "0                  0  \n",
       "1                  0  \n",
       "2                  0  \n",
       "3                  0  \n",
       "4                  0  \n",
       "...              ...  \n",
       "3000883            0  \n",
       "3000884            1  \n",
       "3000885          148  \n",
       "3000886            8  \n",
       "3000887            0  \n",
       "\n",
       "[3000888 rows x 6 columns]"
      ]
     },
     "execution_count": 16,
     "metadata": {},
     "output_type": "execute_result"
    }
   ],
   "source": [
    "train_data"
   ]
  },
  {
   "cell_type": "code",
   "execution_count": 9,
   "metadata": {},
   "outputs": [
    {
     "name": "stdout",
     "output_type": "stream",
     "text": [
      "Display holiday info:\n",
      "==================================================\n",
      "<class 'pandas.core.frame.DataFrame'>\n",
      "RangeIndex: 83488 entries, 0 to 83487\n",
      "Data columns (total 3 columns):\n",
      " #   Column        Non-Null Count  Dtype         \n",
      "---  ------        --------------  -----         \n",
      " 0   date          83488 non-null  datetime64[ns]\n",
      " 1   store_nbr     83488 non-null  int64         \n",
      " 2   transactions  83488 non-null  int64         \n",
      "dtypes: datetime64[ns](1), int64(2)\n",
      "memory usage: 1.9 MB\n"
     ]
    },
    {
     "data": {
      "text/plain": [
       "None"
      ]
     },
     "metadata": {},
     "output_type": "display_data"
    },
    {
     "name": "stdout",
     "output_type": "stream",
     "text": [
      "Display train info:\n",
      "==================================================\n",
      "<class 'pandas.core.frame.DataFrame'>\n",
      "RangeIndex: 3000888 entries, 0 to 3000887\n",
      "Data columns (total 6 columns):\n",
      " #   Column       Dtype         \n",
      "---  ------       -----         \n",
      " 0   id           int64         \n",
      " 1   date         datetime64[ns]\n",
      " 2   store_nbr    int64         \n",
      " 3   family       object        \n",
      " 4   sales        float64       \n",
      " 5   onpromotion  int64         \n",
      "dtypes: datetime64[ns](1), float64(1), int64(3), object(1)\n",
      "memory usage: 137.4+ MB\n"
     ]
    },
    {
     "data": {
      "text/plain": [
       "None"
      ]
     },
     "metadata": {},
     "output_type": "display_data"
    },
    {
     "name": "stdout",
     "output_type": "stream",
     "text": [
      "Display test info:\n",
      "==================================================\n",
      "<class 'pandas.core.frame.DataFrame'>\n",
      "RangeIndex: 28512 entries, 0 to 28511\n",
      "Data columns (total 5 columns):\n",
      " #   Column       Non-Null Count  Dtype         \n",
      "---  ------       --------------  -----         \n",
      " 0   id           28512 non-null  int64         \n",
      " 1   date         28512 non-null  datetime64[ns]\n",
      " 2   store_nbr    28512 non-null  int64         \n",
      " 3   family       28512 non-null  object        \n",
      " 4   onpromotion  28512 non-null  int64         \n",
      "dtypes: datetime64[ns](1), int64(3), object(1)\n",
      "memory usage: 1.1+ MB\n"
     ]
    },
    {
     "data": {
      "text/plain": [
       "None"
      ]
     },
     "metadata": {},
     "output_type": "display_data"
    }
   ],
   "source": [
    "# Display infomation for the transactions\n",
    "\n",
    "# Display info for the oil price\n",
    "print(\"Display holiday info:\" )\n",
    "print(\"=\" *50)\n",
    "transactions_info =transactions.info()\n",
    "display(transactions_info)\n",
    "\n",
    "# Display info for the train data set\n",
    "print(\"Display train info:\" )\n",
    "print(\"=\" *50)\n",
    "train_info = train_data.info()\n",
    "display(train_info)\n",
    "\n",
    "# Display info for the stotres\n",
    "print(\"Display test info:\" )\n",
    "print(\"=\" *50)\n",
    "test_info = test_data.info()\n",
    "display(test_info)"
   ]
  },
  {
   "cell_type": "code",
   "execution_count": 18,
   "metadata": {},
   "outputs": [
    {
     "name": "stdout",
     "output_type": "stream",
     "text": [
      "display Null values in transactions:\n",
      "==================================================\n"
     ]
    },
    {
     "data": {
      "text/plain": [
       "date            0\n",
       "store_nbr       0\n",
       "transactions    0\n",
       "dtype: int64"
      ]
     },
     "metadata": {},
     "output_type": "display_data"
    },
    {
     "name": "stdout",
     "output_type": "stream",
     "text": [
      "display Null values in train data set:"
     ]
    },
    {
     "name": "stdout",
     "output_type": "stream",
     "text": [
      "\n",
      "==================================================\n"
     ]
    },
    {
     "data": {
      "text/plain": [
       "id             0\n",
       "date           0\n",
       "store_nbr      0\n",
       "family         0\n",
       "sales          0\n",
       "onpromotion    0\n",
       "dtype: int64"
      ]
     },
     "metadata": {},
     "output_type": "display_data"
    },
    {
     "name": "stdout",
     "output_type": "stream",
     "text": [
      "display Null values in test data:\n",
      "==================================================\n"
     ]
    },
    {
     "data": {
      "text/plain": [
       "id             0\n",
       "date           0\n",
       "store_nbr      0\n",
       "family         0\n",
       "onpromotion    0\n",
       "dtype: int64"
      ]
     },
     "metadata": {},
     "output_type": "display_data"
    }
   ],
   "source": [
    "# Display the null values in transactions data set\n",
    "\n",
    "print(\"display Null values in transactions:\")\n",
    "print(\"=\" * 50)\n",
    "transactions_isnull = transactions.isna().sum()\n",
    "display(transactions_isnull)\n",
    "\n",
    "print(\"display Null values in train data set:\")\n",
    "print(\"=\" * 50)\n",
    "train_isnull = train_data.isna().sum()\n",
    "display(train_isnull)\n",
    "\n",
    "print(\"display Null values in test data:\")\n",
    "print(\"=\" * 50)\n",
    "test_isnull = test_data.isna().sum()\n",
    "display(test_isnull)"
   ]
  },
  {
   "cell_type": "code",
   "execution_count": 10,
   "metadata": {},
   "outputs": [
    {
     "name": "stdout",
     "output_type": "stream",
     "text": [
      "Transactions Dataset: (83488, 3)\n",
      "Train Dataset: (3000888, 6)\n",
      "Test Dataset: (28512, 5)\n"
     ]
    }
   ],
   "source": [
    "# Print out the shape of data sets\n",
    "print(f\"Transactions Dataset: {transactions.shape}\")\n",
    "print(f\"Train Dataset: {train_data.shape}\")\n",
    "print(f\"Test Dataset: {test_data.shape}\")"
   ]
  },
  {
   "cell_type": "markdown",
   "metadata": {},
   "source": [
    "<b> Handling the missing values in dcoilwtico column in oil data set <b>"
   ]
  },
  {
   "cell_type": "code",
   "execution_count": 7,
   "metadata": {},
   "outputs": [],
   "source": [
    "# Fill missing values in the 'dcoilwtico' column using backfill strategy\n",
    "oil_df['dcoilwtico'] = oil_df['dcoilwtico'].fillna(method='backfill')"
   ]
  },
  {
   "cell_type": "code",
   "execution_count": 6,
   "metadata": {},
   "outputs": [
    {
     "data": {
      "text/plain": [
       "date          0\n",
       "dcoilwtico    0\n",
       "dtype: int64"
      ]
     },
     "execution_count": 6,
     "metadata": {},
     "output_type": "execute_result"
    }
   ],
   "source": [
    "# check if there is missing values in dcoilwtico column\n",
    "oil_df.isna().sum()"
   ]
  },
  {
   "cell_type": "markdown",
   "metadata": {},
   "source": [
    "<b> function to creating year and month column on the tables"
   ]
  },
  {
   "cell_type": "code",
   "execution_count": 8,
   "metadata": {},
   "outputs": [],
   "source": [
    "# function to add year and momnth column to the table\n",
    "def add_year_month_(df,name):\n",
    "    print(f'adding year and month on table {name:}')\n",
    "    df['year']= df[\"date\"].dt.year\n",
    "    df['month']=df[\"date\"].dt.month\n",
    "    \n",
    "\n",
    "# add_year_month_(train_data,'train data')\n",
    "# add_year_month_(holiday_df,'holiday_df')\n",
    "# add_year_month_(oil_df, 'oil_df')\n",
    "# add_year_month_(transactions, 'transactions')"
   ]
  },
  {
   "cell_type": "markdown",
   "metadata": {},
   "source": [
    "# visualization of Data"
   ]
  },
  {
   "cell_type": "markdown",
   "metadata": {},
   "source": [
    "<b> Univarient"
   ]
  },
  {
   "cell_type": "markdown",
   "metadata": {},
   "source": [
    "<b> Store distribution by state"
   ]
  },
  {
   "cell_type": "code",
   "execution_count": 38,
   "metadata": {},
   "outputs": [
    {
     "data": {
      "image/png": "[encoded data removed]",
      "text/plain": [
       "<Figure size 1600x800 with 1 Axes>"
      ]
     },
     "metadata": {},
     "output_type": "display_data"
    }
   ],
   "source": [
    "\n",
    "plt.figure(figsize=(16, 8))  # Adjust the width as needed\n",
    "sns.countplot(x='state', data=stores_df, palette=\"Greens\")\n",
    "plt.xticks(rotation=90)\n",
    "plt.title('Store Distribution by State')\n",
    "plt.xlabel('State')\n",
    "plt.ylabel('Number of Stores')\n",
    "plt.show()"
   ]
  },
  {
   "cell_type": "markdown",
   "metadata": {},
   "source": [
    "#### To understand the frequency of different types of holiday event"
   ]
  },
  {
   "cell_type": "code",
   "execution_count": 8,
   "metadata": {},
   "outputs": [
    {
     "data": {
      "image/png": "[encoded data removed]",
      "text/plain": [
       "<Figure size 640x480 with 1 Axes>"
      ]
     },
     "metadata": {},
     "output_type": "display_data"
    }
   ],
   "source": [
    "# to understand the frequency of holiday\n",
    "holiday_df.set_index(\"date\")\n",
    "sns.countplot(x=\"type\", data=holiday_df, palette='Greens')\n",
    "plt.xlabel(\"type of holiday\")\n",
    "plt.title(\"Count of type of holidays\")\n",
    "plt.show()"
   ]
  },
  {
   "cell_type": "markdown",
   "metadata": {},
   "source": [
    "<b> Checking the sales over the years"
   ]
  },
  {
   "cell_type": "code",
   "execution_count": 57,
   "metadata": {},
   "outputs": [
    {
     "data": {
      "image/png": "[encoded data removed]",
      "text/plain": [
       "<Figure size 1500x700 with 1 Axes>"
      ]
     },
     "metadata": {},
     "output_type": "display_data"
    }
   ],
   "source": [
    "sales_time = train_data.groupby(\"year\").sales.sum().reset_index()\n",
    "sales_time = sales_time.set_index(\"year\")\n",
    "sales_time.plot(legend=False, figsize=(15, 7))\n",
    "\n",
    "plt.title(\"SALES OVER TIME\")\n",
    "plt.ylabel(\"Sales\")\n",
    "plt.xlabel(\"Date\")\n",
    "plt.style.use(\"fivethirtyeight\")\n",
    "plt.show()"
   ]
  },
  {
   "cell_type": "markdown",
   "metadata": {},
   "source": [
    "From our visualization there has been increase in the sales of product fro 2013 to first half of 2016 and sfter the sales started droping till 2017, which will still more analysis to understand the sudden drop in the sales"
   ]
  },
  {
   "cell_type": "code",
   "execution_count": 9,
   "metadata": {},
   "outputs": [
    {
     "data": {
      "image/png": "[encoded data removed]",
      "text/plain": [
       "<Figure size 1500x700 with 1 Axes>"
      ]
     },
     "metadata": {},
     "output_type": "display_data"
    }
   ],
   "source": [
    "sales_time = transactions.groupby(\"year\").transactions.sum().reset_index()\n",
    "sales_time = sales_time.set_index(\"year\")\n",
    "sales_time.plot(legend=False, figsize=(15, 7))\n",
    "\n",
    "plt.title(\"TRANSACTIONS OVER TIME\")\n",
    "plt.ylabel(\"transactions\")\n",
    "plt.xlabel(\"Date\")\n",
    "plt.style.use(\"fivethirtyeight\")\n",
    "plt.show()"
   ]
  },
  {
   "cell_type": "markdown",
   "metadata": {},
   "source": [
    "From our visualization there has been increase in the sales of product fro 2013 to first half of 2016 and sfter the sales started droping till 2017, which will still more analysis to understand the sudden drop in the sales"
   ]
  },
  {
   "cell_type": "markdown",
   "metadata": {},
   "source": [
    "# Identify regions with more or fewer holidays."
   ]
  },
  {
   "cell_type": "code",
   "execution_count": 12,
   "metadata": {},
   "outputs": [
    {
     "data": {
      "image/png": "[encoded data removed]",
      "text/plain": [
       "<Figure size 640x480 with 1 Axes>"
      ]
     },
     "metadata": {},
     "output_type": "display_data"
    }
   ],
   "source": [
    "sns.countplot(x='locale', data=holiday_df, palette=\"Greens\")\n",
    "plt.title('Frequency of holiday in different locale')\n",
    "plt.xlabel('Locale')\n",
    "plt.ylabel(\"Frequency\")\n",
    "plt.show()"
   ]
  },
  {
   "cell_type": "markdown",
   "metadata": {},
   "source": [
    "<b> Distribution of holiday in different months of the year"
   ]
  },
  {
   "cell_type": "code",
   "execution_count": 9,
   "metadata": {},
   "outputs": [
    {
     "name": "stdout",
     "output_type": "stream",
     "text": [
      "adding year and month on table holiday_df\n"
     ]
    },
    {
     "data": {
      "image/png": "[encoded data removed]",
      "text/plain": [
       "<Figure size 640x480 with 1 Axes>"
      ]
     },
     "metadata": {},
     "output_type": "display_data"
    }
   ],
   "source": [
    "# Distribusion of holidays over different months of the year\n",
    "add_year_month_(holiday_df,'holiday_df')\n",
    "sns.countplot(x=\"month\", data=holiday_df, palette= 'Greens')\n",
    "plt.show()"
   ]
  },
  {
   "cell_type": "markdown",
   "metadata": {},
   "source": [
    "### sales of differentm products in different cluster"
   ]
  },
  {
   "cell_type": "code",
   "execution_count": 14,
   "metadata": {},
   "outputs": [
    {
     "data": {
      "text/html": [
       "<div>\n",
       "<style scoped>\n",
       "    .dataframe tbody tr th:only-of-type {\n",
       "        vertical-align: middle;\n",
       "    }\n",
       "\n",
       "    .dataframe tbody tr th {\n",
       "        vertical-align: top;\n",
       "    }\n",
       "\n",
       "    .dataframe thead th {\n",
       "        text-align: right;\n",
       "    }\n",
       "</style>\n",
       "<table border=\"1\" class=\"dataframe\">\n",
       "  <thead>\n",
       "    <tr style=\"text-align: right;\">\n",
       "      <th></th>\n",
       "      <th>type</th>\n",
       "      <th>cluster</th>\n",
       "    </tr>\n",
       "  </thead>\n",
       "  <tbody>\n",
       "    <tr>\n",
       "      <th>3</th>\n",
       "      <td>D</td>\n",
       "      <td>123</td>\n",
       "    </tr>\n",
       "    <tr>\n",
       "      <th>2</th>\n",
       "      <td>C</td>\n",
       "      <td>122</td>\n",
       "    </tr>\n",
       "    <tr>\n",
       "      <th>0</th>\n",
       "      <td>A</td>\n",
       "      <td>111</td>\n",
       "    </tr>\n",
       "    <tr>\n",
       "      <th>1</th>\n",
       "      <td>B</td>\n",
       "      <td>62</td>\n",
       "    </tr>\n",
       "    <tr>\n",
       "      <th>4</th>\n",
       "      <td>E</td>\n",
       "      <td>40</td>\n",
       "    </tr>\n",
       "  </tbody>\n",
       "</table>\n",
       "</div>"
      ],
      "text/plain": [
       "  type  cluster\n",
       "3    D      123\n",
       "2    C      122\n",
       "0    A      111\n",
       "1    B       62\n",
       "4    E       40"
      ]
     },
     "execution_count": 14,
     "metadata": {},
     "output_type": "execute_result"
    }
   ],
   "source": [
    "stores_clustter= stores_df.groupby('type')['cluster'].sum().reset_index()\n",
    "stores_clustter= stores_clustter.sort_values(by='cluster', ascending=False)\n",
    "stores_clustter"
   ]
  },
  {
   "cell_type": "code",
   "execution_count": 15,
   "metadata": {},
   "outputs": [
    {
     "data": {
      "image/png": "[encoded data removed]",
      "text/plain": [
       "<Figure size 640x480 with 1 Axes>"
      ]
     },
     "metadata": {},
     "output_type": "display_data"
    }
   ],
   "source": [
    "types = stores_df['type']\n",
    "\n",
    "counts = [\"types\", \"clusters\"]\n",
    "sns.barplot(x=\"type\", y='cluster', data=stores_clustter, palette = 'Greens')\n",
    "\n",
    "\n",
    "plt.show()"
   ]
  },
  {
   "cell_type": "markdown",
   "metadata": {},
   "source": [
    "### Visualizing Changes in Crude Oil Prices over Time"
   ]
  },
  {
   "cell_type": "code",
   "execution_count": 10,
   "metadata": {},
   "outputs": [
    {
     "data": {
      "text/plain": [
       "<Figure size 1500x1000 with 0 Axes>"
      ]
     },
     "metadata": {},
     "output_type": "display_data"
    },
    {
     "data": {
      "image/png": "[encoded data removed]",
      "text/plain": [
       "<Figure size 640x480 with 1 Axes>"
      ]
     },
     "metadata": {},
     "output_type": "display_data"
    }
   ],
   "source": [
    "oil_df.set_index(\"date\")\n",
    "plt.figure(figsize=(15,10))\n",
    "oil_df.plot(x=\"date\", y=\"dcoilwtico\", color=\"green\", legend=False)\n",
    "plt.xlabel(\"Dtae\")\n",
    "plt.ylabel(\"Oil price\")\n",
    "plt.style.use(\"fivethirtyeight\")\n",
    "plt.show()"
   ]
  },
  {
   "cell_type": "markdown",
   "metadata": {},
   "source": [
    "#  Using a pie chart to give an overview of how common it is for holidays to be transferred."
   ]
  },
  {
   "cell_type": "code",
   "execution_count": 11,
   "metadata": {},
   "outputs": [
    {
     "data": {
      "image/png": "[encoded data removed]",
      "text/plain": [
       "<Figure size 800x800 with 1 Axes>"
      ]
     },
     "metadata": {},
     "output_type": "display_data"
    }
   ],
   "source": [
    "plt.figure(figsize=(8, 8))\n",
    "holiday_df['transferred'].value_counts().plot.pie(autopct='%1.1f%%', colors='green')\n",
    "plt.title('Proportion of Transferred Holidays')\n",
    "plt.show()"
   ]
  },
  {
   "cell_type": "markdown",
   "metadata": {},
   "source": [
    "<b> Checking for seanality of sales of products over the years"
   ]
  },
  {
   "cell_type": "code",
   "execution_count": 35,
   "metadata": {},
   "outputs": [
    {
     "data": {
      "text/plain": [
       "<Figure size 1500x1000 with 0 Axes>"
      ]
     },
     "metadata": {},
     "output_type": "display_data"
    },
    {
     "data": {
      "image/png": "[encoded data removed]",
      "text/plain": [
       "<Figure size 640x480 with 1 Axes>"
      ]
     },
     "metadata": {},
     "output_type": "display_data"
    }
   ],
   "source": [
    "# Checking for seanality of sales of products over the years\n",
    "# oil_df.set_index(\"date\")\n",
    "plt.figure(figsize=(15,10))\n",
    "train_data.plot(x=\"date\", y=\"sales\", color=\"green\", legend=False)\n",
    "plt.xlabel(\"Date\")\n",
    "plt.ylabel(\"sales over the years\")\n",
    "plt.style.use(\"fivethirtyeight\")\n",
    "plt.show()"
   ]
  },
  {
   "cell_type": "markdown",
   "metadata": {},
   "source": [
    "From the visualization we can see there is seanality on the data set because towards the end of every year the sales always rise."
   ]
  },
  {
   "cell_type": "markdown",
   "metadata": {},
   "source": [
    "<b>  1. Distribusion of sales over the years <b>"
   ]
  },
  {
   "cell_type": "code",
   "execution_count": 18,
   "metadata": {},
   "outputs": [
    {
     "data": {
      "text/html": [
       "<div>\n",
       "<style scoped>\n",
       "    .dataframe tbody tr th:only-of-type {\n",
       "        vertical-align: middle;\n",
       "    }\n",
       "\n",
       "    .dataframe tbody tr th {\n",
       "        vertical-align: top;\n",
       "    }\n",
       "\n",
       "    .dataframe thead th {\n",
       "        text-align: right;\n",
       "    }\n",
       "</style>\n",
       "<table border=\"1\" class=\"dataframe\">\n",
       "  <thead>\n",
       "    <tr style=\"text-align: right;\">\n",
       "      <th></th>\n",
       "      <th>year</th>\n",
       "      <th>sales</th>\n",
       "    </tr>\n",
       "  </thead>\n",
       "  <tbody>\n",
       "    <tr>\n",
       "      <th>3</th>\n",
       "      <td>2016</td>\n",
       "      <td>2.886545e+08</td>\n",
       "    </tr>\n",
       "    <tr>\n",
       "      <th>2</th>\n",
       "      <td>2015</td>\n",
       "      <td>2.408801e+08</td>\n",
       "    </tr>\n",
       "    <tr>\n",
       "      <th>1</th>\n",
       "      <td>2014</td>\n",
       "      <td>2.094742e+08</td>\n",
       "    </tr>\n",
       "    <tr>\n",
       "      <th>4</th>\n",
       "      <td>2017</td>\n",
       "      <td>1.942171e+08</td>\n",
       "    </tr>\n",
       "    <tr>\n",
       "      <th>0</th>\n",
       "      <td>2013</td>\n",
       "      <td>1.404190e+08</td>\n",
       "    </tr>\n",
       "  </tbody>\n",
       "</table>\n",
       "</div>"
      ],
      "text/plain": [
       "   year         sales\n",
       "3  2016  2.886545e+08\n",
       "2  2015  2.408801e+08\n",
       "1  2014  2.094742e+08\n",
       "4  2017  1.942171e+08\n",
       "0  2013  1.404190e+08"
      ]
     },
     "execution_count": 18,
     "metadata": {},
     "output_type": "execute_result"
    }
   ],
   "source": [
    "sales_frequency    = train_data.groupby('year')['sales'].sum().reset_index()\n",
    "sales_frequency = sales_frequency.sort_values(by='sales',ascending=False)\n",
    "sales_frequency"
   ]
  },
  {
   "cell_type": "code",
   "execution_count": 25,
   "metadata": {},
   "outputs": [
    {
     "data": {
      "image/png": "[encoded data removed]",
      "text/plain": [
       "<Figure size 640x480 with 1 Axes>"
      ]
     },
     "metadata": {},
     "output_type": "display_data"
    }
   ],
   "source": [
    "sns.barplot(x= 'year', y='sales', data= sales_frequency, palette=\"Greens\")\n",
    "plt.title('Distribution of Sales over the years')\n",
    "plt.ylabel('Sales')\n",
    "plt.xlabel('years')\n",
    "plt.show()"
   ]
  },
  {
   "cell_type": "markdown",
   "metadata": {},
   "source": [
    "# Bivarient"
   ]
  },
  {
   "cell_type": "code",
   "execution_count": 24,
   "metadata": {},
   "outputs": [
    {
     "data": {
      "image/png": "[encoded data removed]",
      "text/plain": [
       "<Figure size 640x480 with 2 Axes>"
      ]
     },
     "metadata": {},
     "output_type": "display_data"
    }
   ],
   "source": [
    "train_oil_data= train_data.merge(oil_df, on ='date', how='left') \n",
    "# Select numerical variables for correlation analysis\n",
    "numerical_vars = ['sales', 'dcoilwtico', 'onpromotion']\n",
    "\n",
    "# Compute correlation matrix\n",
    "corr_matrix = train_oil_data[numerical_vars].corr()\n",
    "\n",
    "# Plot heatmap\n",
    "sns.heatmap(corr_matrix, annot=True, cmap='coolwarm')\n",
    "plt.title('Correlation Matrix')\n",
    "plt.show()"
   ]
  },
  {
   "cell_type": "markdown",
   "metadata": {},
   "source": [
    "# Answering Questions and Hypotesis"
   ]
  },
  {
   "cell_type": "markdown",
   "metadata": {},
   "source": [
    "##### 1. Is the train dataset complete (has all the required dates)?\n",
    "\n"
   ]
  },
  {
   "cell_type": "code",
   "execution_count": 14,
   "metadata": {},
   "outputs": [
    {
     "name": "stdout",
     "output_type": "stream",
     "text": [
      "The train dataset is incomplete. The following dates are missing:\n",
      "DatetimeIndex(['2013-12-25', '2014-12-25', '2015-12-25', '2016-12-25'], dtype='datetime64[ns]', freq=None)\n"
     ]
    }
   ],
   "source": [
    "# Check the completeness of the train dataset\n",
    "min_date = train_data['date'].min()\n",
    "max_date = train_data['date'].max()\n",
    "expected_dates = pd.date_range(start=min_date, end=max_date)\n",
    "\n",
    "missing_dates = expected_dates[~expected_dates.isin(train_data['date'])]\n",
    "\n",
    "if len(missing_dates) == 0:\n",
    "    print(\"The train dataset is complete. It includes all the required dates.\")\n",
    "else:\n",
    "    print(\"The train dataset is incomplete. The following dates are missing:\")\n",
    "    print(missing_dates)"
   ]
  },
  {
   "cell_type": "markdown",
   "metadata": {},
   "source": [
    "From the above it is obvserverd that the dates in train data set is not complete some of the dates are missing which soposed to be christmas holidays that is 12-25 of every year"
   ]
  },
  {
   "cell_type": "code",
   "execution_count": 15,
   "metadata": {},
   "outputs": [],
   "source": [
    "#  To complete the missing dates in the data set\n",
    "\n",
    "# Complete the missing dates in the train dataset\n",
    "# Create an index of the missing dates as a DatetimeIndex object\n",
    "missing_dates = pd.Index(['2013-12-25', '2014-12-25', '2015-12-25', '2016-12-25'], dtype='datetime64[ns]')\n",
    "\n",
    "# Create a DataFrame with the missing dates, using the 'date' column\n",
    "missing_data = pd.DataFrame({'date': missing_dates})\n",
    "\n",
    "# Concatenate the original train dataset and the missing data DataFrame\n",
    "# ignore_index=True ensures a new index is assigned to the resulting DataFrame\n",
    "train_data = pd.concat([train_data, missing_data], ignore_index=True)\n",
    "\n",
    "# Sort the DataFrame based on the 'date' column in ascending order\n",
    "train_data.sort_values('date', inplace=True)\n"
   ]
  },
  {
   "cell_type": "code",
   "execution_count": 17,
   "metadata": {},
   "outputs": [
    {
     "name": "stdout",
     "output_type": "stream",
     "text": [
      "The train dataset is complete. It includes all the required dates.\n"
     ]
    }
   ],
   "source": [
    "# Check the completeness of the train dataset\n",
    "min_date = train_data['date'].min()\n",
    "max_date = train_data['date'].max()\n",
    "expected_dates = pd.date_range(start=min_date, end=max_date)\n",
    "\n",
    "missing_dates = expected_dates[~expected_dates.isin(train_data['date'])]\n",
    "\n",
    "if len(missing_dates) == 0:\n",
    "    print(\"The train dataset is complete. It includes all the required dates.\")\n",
    "else:\n",
    "    print(\"The train dataset is incomplete. The following dates are missing:\")\n",
    "    print(missing_dates)"
   ]
  },
  {
   "cell_type": "markdown",
   "metadata": {},
   "source": [
    "#### 2. Which dates have the lowest and highest sales for each year?"
   ]
  },
  {
   "cell_type": "code",
   "execution_count": 18,
   "metadata": {},
   "outputs": [
    {
     "name": "stdout",
     "output_type": "stream",
     "text": [
      "Dates with the Lowest Sales for Each Year:\n",
      "           year       date  month  sales\n",
      "0        2013.0 2013-01-01    1.0    0.0\n",
      "649832   2014.0 2014-01-01    1.0    0.0\n",
      "1298484  2015.0 2015-01-01    1.0    0.0\n",
      "1947132  2016.0 2016-01-01    1.0    0.0\n",
      "2597563  2017.0 2017-01-01    1.0    0.0\n",
      "\n",
      "Dates with the Highest Sales for Each Year:\n",
      "           year       date  month       sales\n",
      "562596   2013.0 2013-11-12   11.0   46271.000\n",
      "1257246  2014.0 2014-12-08   12.0   45361.000\n",
      "1916586  2015.0 2015-12-14   12.0   40351.460\n",
      "2163723  2016.0 2016-05-02    5.0  124717.000\n",
      "2760297  2017.0 2017-04-02    4.0   38422.625\n"
     ]
    }
   ],
   "source": [
    "\n",
    "# Find the date with the lowest sales for each year\n",
    "min_sales_dates = train_data.loc[train_data.groupby('year')['sales'].idxmin()][['year', 'date', 'month', 'sales']]\n",
    "\n",
    "# Find the date with the highest sales for each year\n",
    "max_sales_dates = train_data.loc[train_data.groupby('year')['sales'].idxmax()][['year', 'date', 'month', 'sales']]\n",
    "\n",
    "print(\"Dates with the Lowest Sales for Each Year:\")\n",
    "print(min_sales_dates)\n",
    "\n",
    "print(\"\\nDates with the Highest Sales for Each Year:\")\n",
    "print(max_sales_dates)"
   ]
  },
  {
   "cell_type": "markdown",
   "metadata": {},
   "source": [
    "### 3. Impact of April 16, 2016 earthquake on sales."
   ]
  },
  {
   "cell_type": "code",
   "execution_count": 15,
   "metadata": {},
   "outputs": [],
   "source": [
    "oil_sales_data = pd.merge(train_data, oil_df, on='date', how='left')\n",
    "oil_sales_data = oil_sales_data.set_index('date')\n"
   ]
  },
  {
   "cell_type": "code",
   "execution_count": 31,
   "metadata": {},
   "outputs": [
    {
     "data": {
      "image/png": "[encoded data removed]",
      "text/plain": [
       "<Figure size 1000x600 with 1 Axes>"
      ]
     },
     "metadata": {},
     "output_type": "display_data"
    }
   ],
   "source": [
    "\n",
    "# Assuming 'oil_df' has a datetime index, if not, convert it\n",
    "oil_sales_data.index = pd.to_datetime(oil_sales_data.index)\n",
    "\n",
    "earthquake_date = pd.to_datetime('2016-04-16')\n",
    "start_date = earthquake_date - pd.DateOffset(days=30)\n",
    "end_date = earthquake_date + pd.DateOffset(days=30)\n",
    "\n",
    "sales_around_earthquake = oil_sales_data.loc[(oil_sales_data.index >= start_date) & (oil_sales_data.index <= end_date)]\n",
    "\n",
    "plt.figure(figsize=(10, 6))\n",
    "plt.plot(sales_around_earthquake.index, sales_around_earthquake['sales'], color='green', label='Sales Trend')\n",
    "plt.axvline(x=earthquake_date, color='red', linestyle='--', label='Earthquake Date')\n",
    "plt.xlabel('Date')\n",
    "plt.ylabel('Sales')\n",
    "plt.title('Sales Trend Around Earthquake Date')\n",
    "plt.legend()\n",
    "plt.show()\n"
   ]
  },
  {
   "cell_type": "markdown",
   "metadata": {},
   "source": [
    "## 4 Are certain groups of stores selling more products? (Cluster, city, state, type)"
   ]
  },
  {
   "cell_type": "code",
   "execution_count": 27,
   "metadata": {},
   "outputs": [],
   "source": [
    "train_store_data = train_data.merge(stores_df, on='store_nbr', how='left')\n",
    "top_sales = train_store_data.sort_values(by='sales', ascending=False)\n",
    "top_10_sales= top_sales.head(20)"
   ]
  },
  {
   "cell_type": "code",
   "execution_count": 30,
   "metadata": {},
   "outputs": [
    {
     "data": {
      "image/png": "[encoded data removed]",
      "text/plain": [
       "<Figure size 640x480 with 1 Axes>"
      ]
     },
     "metadata": {},
     "output_type": "display_data"
    }
   ],
   "source": [
    "top_10_sales.set_index('date')\n",
    "\n",
    "stores_sell_products = top_10_sales.groupby([\"cluster\", \"city\", \"state\", \"type\"])[\"sales\"].sum().reset_index()\n",
    "stores_sell_products = stores_sell_products.sort_values(by=\"sales\")\n",
    "sns.barplot(x='type', y='sales', hue='state', data=stores_sell_products, ci=None, palette='Greens')\n",
    "plt.title('Trends of seles among cluster,types,states and cities')\n",
    "plt.show()"
   ]
  },
  {
   "cell_type": "markdown",
   "metadata": {},
   "source": [
    "## 5 Are sales affected by promotions, oil prices and holidays?"
   ]
  },
  {
   "cell_type": "code",
   "execution_count": 26,
   "metadata": {},
   "outputs": [
    {
     "data": {
      "image/png": "[encoded data removed]",
      "text/plain": [
       "<Figure size 800x600 with 1 Axes>"
      ]
     },
     "metadata": {},
     "output_type": "display_data"
    }
   ],
   "source": [
    "# Correlation analysis\n",
    "correlation_promotions = train_data[['sales', 'onpromotion']].corr()\n",
    "\n",
    "# Visualization\n",
    "plt.figure(figsize=(8, 6))\n",
    "sns.scatterplot(x='onpromotion', y='sales', data=train_data)\n",
    "plt.title('Sales vs. Promotions')\n",
    "plt.xlabel('Promotions')\n",
    "plt.ylabel('Sales')\n",
    "plt.show()"
   ]
  },
  {
   "cell_type": "code",
   "execution_count": 32,
   "metadata": {},
   "outputs": [
    {
     "data": {
      "image/png": "[encoded data removed]",
      "text/plain": [
       "<Figure size 800x600 with 1 Axes>"
      ]
     },
     "metadata": {},
     "output_type": "display_data"
    }
   ],
   "source": [
    "\n",
    "\n",
    "# Merge 'train' and 'oil' on 'date'\n",
    "# merged_data = pd.merge(train_data, oil_df, on='date', how='left')\n",
    "\n",
    "# Correlation analysis\n",
    "correlation_oil_prices =train_oil_data[['sales', 'dcoilwtico']].corr()\n",
    "\n",
    "# Visualization\n",
    "plt.figure(figsize=(8, 6))\n",
    "sns.scatterplot(x='dcoilwtico', y='sales', data=train_oil_data, palette='Greens')\n",
    "plt.title('Sales vs. Crude Oil Prices')\n",
    "plt.xlabel('Crude Oil Prices')\n",
    "plt.ylabel('Sales')\n",
    "plt.show()\n"
   ]
  },
  {
   "cell_type": "code",
   "execution_count": 16,
   "metadata": {},
   "outputs": [
    {
     "data": {
      "image/png": "[encoded data removed]",
      "text/plain": [
       "<Figure size 800x600 with 1 Axes>"
      ]
     },
     "metadata": {},
     "output_type": "display_data"
    }
   ],
   "source": [
    "\n",
    "\n",
    "\n",
    "# Merge 'train' and 'holiday' on 'date'\n",
    "merged_data_holidays = pd.merge(train_data, holiday_df, on='date', how='left')\n",
    "\n",
    "# Correlation analysis\n",
    "correlation_holidays = merged_data_holidays[['sales', 'transferred']].corr()\n",
    "\n",
    "# Visualization\n",
    "plt.figure(figsize=(8, 6))\n",
    "sns.barplot(x='transferred', y='sales', data=merged_data_holidays, palette='Greens')\n",
    "plt.title('Sales on Holidays vs. Non-Holidays')\n",
    "plt.xlabel('Holiday')\n",
    "plt.ylabel('Sales')\n",
    "plt.show()"
   ]
  },
  {
   "cell_type": "markdown",
   "metadata": {},
   "source": [
    "<b>Extracting Date Components ( Month, Year and Day of The Week)."
   ]
  },
  {
   "cell_type": "code",
   "execution_count": 16,
   "metadata": {},
   "outputs": [],
   "source": [
    "# defining a function to etract year and month from the data column\n",
    "def add_year_month_(df,name):\n",
    "    print(f'adding year and month on table {name:}')\n",
    "    df['year']= df[\"date\"].dt.year\n",
    "    df['month']=df[\"date\"].dt.month\n",
    "    df['day'] =df['date'].dt.day\n",
    "    \n",
    "\n"
   ]
  },
  {
   "cell_type": "markdown",
   "metadata": {},
   "source": [
    "# Hypotesis Testing"
   ]
  },
  {
   "cell_type": "code",
   "execution_count": 17,
   "metadata": {},
   "outputs": [
    {
     "name": "stdout",
     "output_type": "stream",
     "text": [
      "chi2: 403717.71291712485\n",
      "p_value: 1.8592877520968007e-169\n",
      "dof: 379065\n",
      "expected_value: [[2.03300000e+04 1.34751773e-01 1.34751773e-01 ... 2.69503546e-01\n",
      "  1.34751773e-01 1.34751773e-01]\n",
      " [1.60500000e+03 1.06382979e-02 1.06382979e-02 ... 2.12765957e-02\n",
      "  1.06382979e-02 1.06382979e-02]\n",
      " [2.99600000e+04 1.98581560e-01 1.98581560e-01 ... 3.97163121e-01\n",
      "  1.98581560e-01 1.98581560e-01]\n",
      " [9.14850000e+04 6.06382979e-01 6.06382979e-01 ... 1.21276596e+00\n",
      "  6.06382979e-01 6.06382979e-01]\n",
      " [4.81500000e+03 3.19148936e-02 3.19148936e-02 ... 6.38297872e-02\n",
      "  3.19148936e-02 3.19148936e-02]\n",
      " [2.67500000e+03 1.77304965e-02 1.77304965e-02 ... 3.54609929e-02\n",
      "  1.77304965e-02 1.77304965e-02]]\n",
      "The null hypothesis is rejected\n",
      "the type of holiday has no significant effect on the increase of sales\n"
     ]
    }
   ],
   "source": [
    "\n",
    "null_hyp = 'the type of holiday  have  significant effect on the increase of sales'\n",
    "alt_hyp = 'the type of holiday has no significant effect on the increase of sales'\n",
    "observed_value = pd.crosstab(merged_data_holidays['type'],merged_data_holidays['sales'])\n",
    "chi2, p_value, dof, expected_value= stats.chi2_contingency(observed_value)\n",
    "print('chi2:', chi2)\n",
    "print('p_value:', p_value)\n",
    "print('dof:', dof)\n",
    "print('expected_value:',expected_value)\n",
    "alpha= 0.1\n",
    "if p_value <= alpha:\n",
    "    print('The null hypothesis is rejected')\n",
    "    print(alt_hyp)\n",
    "else:\n",
    "    print('The nul hypothesis is accepted')\n",
    "    print(null_hyp)"
   ]
  },
  {
   "cell_type": "markdown",
   "metadata": {},
   "source": [
    "From the hypothesis the p_value is 1.8592877520968007e-169 which is greater than the alpha value o.1, this indicate that the type of holiday in the state does not determine increase if there will gbe increase in sales or not, therefore, sales of oil is the same even in the holiday"
   ]
  },
  {
   "cell_type": "markdown",
   "metadata": {},
   "source": [
    "## Merging the data together to check the stationality of the data before modelling"
   ]
  },
  {
   "cell_type": "code",
   "execution_count": 5,
   "metadata": {},
   "outputs": [
    {
     "data": {
      "text/html": [
       "<div>\n",
       "<style scoped>\n",
       "    .dataframe tbody tr th:only-of-type {\n",
       "        vertical-align: middle;\n",
       "    }\n",
       "\n",
       "    .dataframe tbody tr th {\n",
       "        vertical-align: top;\n",
       "    }\n",
       "\n",
       "    .dataframe thead th {\n",
       "        text-align: right;\n",
       "    }\n",
       "</style>\n",
       "<table border=\"1\" class=\"dataframe\">\n",
       "  <thead>\n",
       "    <tr style=\"text-align: right;\">\n",
       "      <th></th>\n",
       "      <th>id</th>\n",
       "      <th>date</th>\n",
       "      <th>store_nbr</th>\n",
       "      <th>family</th>\n",
       "      <th>sales</th>\n",
       "      <th>onpromotion</th>\n",
       "      <th>city</th>\n",
       "      <th>state</th>\n",
       "      <th>type</th>\n",
       "      <th>cluster</th>\n",
       "      <th>transactions</th>\n",
       "      <th>dcoilwtico</th>\n",
       "    </tr>\n",
       "  </thead>\n",
       "  <tbody>\n",
       "    <tr>\n",
       "      <th>0</th>\n",
       "      <td>1782</td>\n",
       "      <td>2013-01-02</td>\n",
       "      <td>1</td>\n",
       "      <td>AUTOMOTIVE</td>\n",
       "      <td>2.0</td>\n",
       "      <td>0</td>\n",
       "      <td>Quito</td>\n",
       "      <td>Pichincha</td>\n",
       "      <td>D</td>\n",
       "      <td>13</td>\n",
       "      <td>2111</td>\n",
       "      <td>93.139999</td>\n",
       "    </tr>\n",
       "    <tr>\n",
       "      <th>1</th>\n",
       "      <td>1783</td>\n",
       "      <td>2013-01-02</td>\n",
       "      <td>1</td>\n",
       "      <td>BABY CARE</td>\n",
       "      <td>0.0</td>\n",
       "      <td>0</td>\n",
       "      <td>Quito</td>\n",
       "      <td>Pichincha</td>\n",
       "      <td>D</td>\n",
       "      <td>13</td>\n",
       "      <td>2111</td>\n",
       "      <td>93.139999</td>\n",
       "    </tr>\n",
       "    <tr>\n",
       "      <th>2</th>\n",
       "      <td>1784</td>\n",
       "      <td>2013-01-02</td>\n",
       "      <td>1</td>\n",
       "      <td>BEAUTY</td>\n",
       "      <td>2.0</td>\n",
       "      <td>0</td>\n",
       "      <td>Quito</td>\n",
       "      <td>Pichincha</td>\n",
       "      <td>D</td>\n",
       "      <td>13</td>\n",
       "      <td>2111</td>\n",
       "      <td>93.139999</td>\n",
       "    </tr>\n",
       "    <tr>\n",
       "      <th>3</th>\n",
       "      <td>1785</td>\n",
       "      <td>2013-01-02</td>\n",
       "      <td>1</td>\n",
       "      <td>BEVERAGES</td>\n",
       "      <td>1091.0</td>\n",
       "      <td>0</td>\n",
       "      <td>Quito</td>\n",
       "      <td>Pichincha</td>\n",
       "      <td>D</td>\n",
       "      <td>13</td>\n",
       "      <td>2111</td>\n",
       "      <td>93.139999</td>\n",
       "    </tr>\n",
       "    <tr>\n",
       "      <th>4</th>\n",
       "      <td>1786</td>\n",
       "      <td>2013-01-02</td>\n",
       "      <td>1</td>\n",
       "      <td>BOOKS</td>\n",
       "      <td>0.0</td>\n",
       "      <td>0</td>\n",
       "      <td>Quito</td>\n",
       "      <td>Pichincha</td>\n",
       "      <td>D</td>\n",
       "      <td>13</td>\n",
       "      <td>2111</td>\n",
       "      <td>93.139999</td>\n",
       "    </tr>\n",
       "  </tbody>\n",
       "</table>\n",
       "</div>"
      ],
      "text/plain": [
       "     id       date  store_nbr      family   sales  onpromotion   city  \\\n",
       "0  1782 2013-01-02          1  AUTOMOTIVE     2.0            0  Quito   \n",
       "1  1783 2013-01-02          1   BABY CARE     0.0            0  Quito   \n",
       "2  1784 2013-01-02          1      BEAUTY     2.0            0  Quito   \n",
       "3  1785 2013-01-02          1   BEVERAGES  1091.0            0  Quito   \n",
       "4  1786 2013-01-02          1       BOOKS     0.0            0  Quito   \n",
       "\n",
       "       state type  cluster  transactions  dcoilwtico  \n",
       "0  Pichincha    D       13          2111   93.139999  \n",
       "1  Pichincha    D       13          2111   93.139999  \n",
       "2  Pichincha    D       13          2111   93.139999  \n",
       "3  Pichincha    D       13          2111   93.139999  \n",
       "4  Pichincha    D       13          2111   93.139999  "
      ]
     },
     "execution_count": 5,
     "metadata": {},
     "output_type": "execute_result"
    }
   ],
   "source": [
    "# Merging the common columns ('store_nbr' and 'date') in the datasets using the inner merge() function\n",
    "# Merge train_df with stores_df based on 'store_nbr' column\n",
    "merged_data1 = train_data.merge(stores_df, on='store_nbr', how='inner')\n",
    "\n",
    "# Merge merged_df1 with transactions_df based on 'date' and 'store_nbr' columns\n",
    "merged_data2 = merged_data1.merge(transactions, on=['date', 'store_nbr'], how='inner')\n",
    "\n",
    "# Merge merged_df2 with oil_df based on 'date' column\n",
    "merged_data = merged_data2.merge(oil_df, on='date', how='inner')\n",
    "\n",
    "# View the first five rows of the merged dataset\n",
    "merged_data.head()"
   ]
  },
  {
   "cell_type": "code",
   "execution_count": 20,
   "metadata": {},
   "outputs": [
    {
     "data": {
      "text/plain": [
       "(1968483, 14)"
      ]
     },
     "execution_count": 20,
     "metadata": {},
     "output_type": "execute_result"
    }
   ],
   "source": [
    "merged_data.shape"
   ]
  },
  {
   "cell_type": "code",
   "execution_count": 18,
   "metadata": {},
   "outputs": [
    {
     "name": "stdout",
     "output_type": "stream",
     "text": [
      "<class 'pandas.core.frame.DataFrame'>\n",
      "Int64Index: 1968483 entries, 0 to 1968482\n",
      "Data columns (total 12 columns):\n",
      " #   Column        Dtype         \n",
      "---  ------        -----         \n",
      " 0   id            int64         \n",
      " 1   date          datetime64[ns]\n",
      " 2   store_nbr     int64         \n",
      " 3   family        object        \n",
      " 4   sales         float64       \n",
      " 5   onpromotion   int64         \n",
      " 6   city          object        \n",
      " 7   state         object        \n",
      " 8   type          object        \n",
      " 9   cluster       int64         \n",
      " 10  transactions  int64         \n",
      " 11  dcoilwtico    float64       \n",
      "dtypes: datetime64[ns](1), float64(2), int64(5), object(4)\n",
      "memory usage: 195.2+ MB\n"
     ]
    }
   ],
   "source": [
    "merged_data.info()"
   ]
  },
  {
   "cell_type": "code",
   "execution_count": 11,
   "metadata": {},
   "outputs": [
    {
     "data": {
      "text/plain": [
       "id              0\n",
       "date            0\n",
       "store_nbr       0\n",
       "family          0\n",
       "sales           0\n",
       "onpromotion     0\n",
       "city            0\n",
       "state           0\n",
       "type            0\n",
       "cluster         0\n",
       "transactions    0\n",
       "dcoilwtico      0\n",
       "year            0\n",
       "month           0\n",
       "dtype: int64"
      ]
     },
     "execution_count": 11,
     "metadata": {},
     "output_type": "execute_result"
    }
   ],
   "source": [
    "merged_data.isna().sum()"
   ]
  },
  {
   "cell_type": "code",
   "execution_count": 13,
   "metadata": {},
   "outputs": [
    {
     "data": {
      "text/plain": [
       "0"
      ]
     },
     "execution_count": 13,
     "metadata": {},
     "output_type": "execute_result"
    }
   ],
   "source": [
    "merged_data.duplicated().sum()"
   ]
  },
  {
   "cell_type": "code",
   "execution_count": 10,
   "metadata": {},
   "outputs": [
    {
     "name": "stdout",
     "output_type": "stream",
     "text": [
      "adding year and month on table merged_data\n"
     ]
    }
   ],
   "source": [
    "# adding year, month and day of the week in the merged data\n",
    "add_year_month_(merged_data,'merged_data')"
   ]
  },
  {
   "cell_type": "code",
   "execution_count": 39,
   "metadata": {},
   "outputs": [
    {
     "data": {
      "text/html": [
       "<div>\n",
       "<style scoped>\n",
       "    .dataframe tbody tr th:only-of-type {\n",
       "        vertical-align: middle;\n",
       "    }\n",
       "\n",
       "    .dataframe tbody tr th {\n",
       "        vertical-align: top;\n",
       "    }\n",
       "\n",
       "    .dataframe thead th {\n",
       "        text-align: right;\n",
       "    }\n",
       "</style>\n",
       "<table border=\"1\" class=\"dataframe\">\n",
       "  <thead>\n",
       "    <tr style=\"text-align: right;\">\n",
       "      <th></th>\n",
       "      <th>id</th>\n",
       "      <th>store_nbr</th>\n",
       "      <th>family</th>\n",
       "      <th>sales</th>\n",
       "      <th>onpromotion</th>\n",
       "      <th>city</th>\n",
       "      <th>state</th>\n",
       "      <th>type</th>\n",
       "      <th>cluster</th>\n",
       "      <th>transactions</th>\n",
       "      <th>dcoilwtico</th>\n",
       "      <th>year</th>\n",
       "      <th>month</th>\n",
       "    </tr>\n",
       "    <tr>\n",
       "      <th>date</th>\n",
       "      <th></th>\n",
       "      <th></th>\n",
       "      <th></th>\n",
       "      <th></th>\n",
       "      <th></th>\n",
       "      <th></th>\n",
       "      <th></th>\n",
       "      <th></th>\n",
       "      <th></th>\n",
       "      <th></th>\n",
       "      <th></th>\n",
       "      <th></th>\n",
       "      <th></th>\n",
       "    </tr>\n",
       "  </thead>\n",
       "  <tbody>\n",
       "    <tr>\n",
       "      <th>2013-01-02</th>\n",
       "      <td>1782</td>\n",
       "      <td>1</td>\n",
       "      <td>AUTOMOTIVE</td>\n",
       "      <td>2.00000</td>\n",
       "      <td>0</td>\n",
       "      <td>Quito</td>\n",
       "      <td>Pichincha</td>\n",
       "      <td>D</td>\n",
       "      <td>13</td>\n",
       "      <td>2111</td>\n",
       "      <td>93.139999</td>\n",
       "      <td>2013</td>\n",
       "      <td>1</td>\n",
       "    </tr>\n",
       "    <tr>\n",
       "      <th>2013-01-02</th>\n",
       "      <td>1783</td>\n",
       "      <td>1</td>\n",
       "      <td>BABY CARE</td>\n",
       "      <td>0.00000</td>\n",
       "      <td>0</td>\n",
       "      <td>Quito</td>\n",
       "      <td>Pichincha</td>\n",
       "      <td>D</td>\n",
       "      <td>13</td>\n",
       "      <td>2111</td>\n",
       "      <td>93.139999</td>\n",
       "      <td>2013</td>\n",
       "      <td>1</td>\n",
       "    </tr>\n",
       "    <tr>\n",
       "      <th>2013-01-02</th>\n",
       "      <td>1784</td>\n",
       "      <td>1</td>\n",
       "      <td>BEAUTY</td>\n",
       "      <td>2.00000</td>\n",
       "      <td>0</td>\n",
       "      <td>Quito</td>\n",
       "      <td>Pichincha</td>\n",
       "      <td>D</td>\n",
       "      <td>13</td>\n",
       "      <td>2111</td>\n",
       "      <td>93.139999</td>\n",
       "      <td>2013</td>\n",
       "      <td>1</td>\n",
       "    </tr>\n",
       "    <tr>\n",
       "      <th>2013-01-02</th>\n",
       "      <td>1785</td>\n",
       "      <td>1</td>\n",
       "      <td>BEVERAGES</td>\n",
       "      <td>1091.00000</td>\n",
       "      <td>0</td>\n",
       "      <td>Quito</td>\n",
       "      <td>Pichincha</td>\n",
       "      <td>D</td>\n",
       "      <td>13</td>\n",
       "      <td>2111</td>\n",
       "      <td>93.139999</td>\n",
       "      <td>2013</td>\n",
       "      <td>1</td>\n",
       "    </tr>\n",
       "    <tr>\n",
       "      <th>2013-01-02</th>\n",
       "      <td>1786</td>\n",
       "      <td>1</td>\n",
       "      <td>BOOKS</td>\n",
       "      <td>0.00000</td>\n",
       "      <td>0</td>\n",
       "      <td>Quito</td>\n",
       "      <td>Pichincha</td>\n",
       "      <td>D</td>\n",
       "      <td>13</td>\n",
       "      <td>2111</td>\n",
       "      <td>93.139999</td>\n",
       "      <td>2013</td>\n",
       "      <td>1</td>\n",
       "    </tr>\n",
       "    <tr>\n",
       "      <th>...</th>\n",
       "      <td>...</td>\n",
       "      <td>...</td>\n",
       "      <td>...</td>\n",
       "      <td>...</td>\n",
       "      <td>...</td>\n",
       "      <td>...</td>\n",
       "      <td>...</td>\n",
       "      <td>...</td>\n",
       "      <td>...</td>\n",
       "      <td>...</td>\n",
       "      <td>...</td>\n",
       "      <td>...</td>\n",
       "      <td>...</td>\n",
       "    </tr>\n",
       "    <tr>\n",
       "      <th>2015-01-01</th>\n",
       "      <td>1297885</td>\n",
       "      <td>25</td>\n",
       "      <td>POULTRY</td>\n",
       "      <td>279.16998</td>\n",
       "      <td>0</td>\n",
       "      <td>Salinas</td>\n",
       "      <td>Santa Elena</td>\n",
       "      <td>D</td>\n",
       "      <td>1</td>\n",
       "      <td>2202</td>\n",
       "      <td>52.720001</td>\n",
       "      <td>2015</td>\n",
       "      <td>1</td>\n",
       "    </tr>\n",
       "    <tr>\n",
       "      <th>2015-01-01</th>\n",
       "      <td>1297886</td>\n",
       "      <td>25</td>\n",
       "      <td>PREPARED FOODS</td>\n",
       "      <td>121.94100</td>\n",
       "      <td>0</td>\n",
       "      <td>Salinas</td>\n",
       "      <td>Santa Elena</td>\n",
       "      <td>D</td>\n",
       "      <td>1</td>\n",
       "      <td>2202</td>\n",
       "      <td>52.720001</td>\n",
       "      <td>2015</td>\n",
       "      <td>1</td>\n",
       "    </tr>\n",
       "    <tr>\n",
       "      <th>2015-01-01</th>\n",
       "      <td>1297887</td>\n",
       "      <td>25</td>\n",
       "      <td>PRODUCE</td>\n",
       "      <td>105.00000</td>\n",
       "      <td>0</td>\n",
       "      <td>Salinas</td>\n",
       "      <td>Santa Elena</td>\n",
       "      <td>D</td>\n",
       "      <td>1</td>\n",
       "      <td>2202</td>\n",
       "      <td>52.720001</td>\n",
       "      <td>2015</td>\n",
       "      <td>1</td>\n",
       "    </tr>\n",
       "    <tr>\n",
       "      <th>2015-01-01</th>\n",
       "      <td>1297888</td>\n",
       "      <td>25</td>\n",
       "      <td>SCHOOL AND OFFICE SUPPLIES</td>\n",
       "      <td>0.00000</td>\n",
       "      <td>0</td>\n",
       "      <td>Salinas</td>\n",
       "      <td>Santa Elena</td>\n",
       "      <td>D</td>\n",
       "      <td>1</td>\n",
       "      <td>2202</td>\n",
       "      <td>52.720001</td>\n",
       "      <td>2015</td>\n",
       "      <td>1</td>\n",
       "    </tr>\n",
       "    <tr>\n",
       "      <th>2015-01-01</th>\n",
       "      <td>1297889</td>\n",
       "      <td>25</td>\n",
       "      <td>SEAFOOD</td>\n",
       "      <td>14.00000</td>\n",
       "      <td>0</td>\n",
       "      <td>Salinas</td>\n",
       "      <td>Santa Elena</td>\n",
       "      <td>D</td>\n",
       "      <td>1</td>\n",
       "      <td>2202</td>\n",
       "      <td>52.720001</td>\n",
       "      <td>2015</td>\n",
       "      <td>1</td>\n",
       "    </tr>\n",
       "  </tbody>\n",
       "</table>\n",
       "<p>1968483 rows × 13 columns</p>\n",
       "</div>"
      ],
      "text/plain": [
       "                 id  store_nbr                      family       sales  \\\n",
       "date                                                                     \n",
       "2013-01-02     1782          1                  AUTOMOTIVE     2.00000   \n",
       "2013-01-02     1783          1                   BABY CARE     0.00000   \n",
       "2013-01-02     1784          1                      BEAUTY     2.00000   \n",
       "2013-01-02     1785          1                   BEVERAGES  1091.00000   \n",
       "2013-01-02     1786          1                       BOOKS     0.00000   \n",
       "...             ...        ...                         ...         ...   \n",
       "2015-01-01  1297885         25                     POULTRY   279.16998   \n",
       "2015-01-01  1297886         25              PREPARED FOODS   121.94100   \n",
       "2015-01-01  1297887         25                     PRODUCE   105.00000   \n",
       "2015-01-01  1297888         25  SCHOOL AND OFFICE SUPPLIES     0.00000   \n",
       "2015-01-01  1297889         25                     SEAFOOD    14.00000   \n",
       "\n",
       "            onpromotion     city        state type  cluster  transactions  \\\n",
       "date                                                                        \n",
       "2013-01-02            0    Quito    Pichincha    D       13          2111   \n",
       "2013-01-02            0    Quito    Pichincha    D       13          2111   \n",
       "2013-01-02            0    Quito    Pichincha    D       13          2111   \n",
       "2013-01-02            0    Quito    Pichincha    D       13          2111   \n",
       "2013-01-02            0    Quito    Pichincha    D       13          2111   \n",
       "...                 ...      ...          ...  ...      ...           ...   \n",
       "2015-01-01            0  Salinas  Santa Elena    D        1          2202   \n",
       "2015-01-01            0  Salinas  Santa Elena    D        1          2202   \n",
       "2015-01-01            0  Salinas  Santa Elena    D        1          2202   \n",
       "2015-01-01            0  Salinas  Santa Elena    D        1          2202   \n",
       "2015-01-01            0  Salinas  Santa Elena    D        1          2202   \n",
       "\n",
       "            dcoilwtico  year  month  \n",
       "date                                 \n",
       "2013-01-02   93.139999  2013      1  \n",
       "2013-01-02   93.139999  2013      1  \n",
       "2013-01-02   93.139999  2013      1  \n",
       "2013-01-02   93.139999  2013      1  \n",
       "2013-01-02   93.139999  2013      1  \n",
       "...                ...   ...    ...  \n",
       "2015-01-01   52.720001  2015      1  \n",
       "2015-01-01   52.720001  2015      1  \n",
       "2015-01-01   52.720001  2015      1  \n",
       "2015-01-01   52.720001  2015      1  \n",
       "2015-01-01   52.720001  2015      1  \n",
       "\n",
       "[1968483 rows x 13 columns]"
      ]
     },
     "execution_count": 39,
     "metadata": {},
     "output_type": "execute_result"
    }
   ],
   "source": [
    "merged_data.set_index('date')"
   ]
  },
  {
   "cell_type": "markdown",
   "metadata": {},
   "source": [
    "# Checking for stationarity of the data\n",
    "<b> using ADF\n",
    "## Hypothesis\n",
    "#### Null Hypothesis: the data is stationality\n",
    "#### Alt Hypothesis:  The data is not stationality"
   ]
  },
  {
   "cell_type": "markdown",
   "metadata": {},
   "source": [
    "<b> checking for stationarity using kpss"
   ]
  },
  {
   "cell_type": "code",
   "execution_count": 41,
   "metadata": {},
   "outputs": [],
   "source": [
    "#  selecting 2013 and 2014 bgecause the data is laege, to check for the stationarity of the data using kpss\n",
    "sample_merged_data= merged_data.loc[merged_data['year'].isin([2013,2014])]\n"
   ]
  },
  {
   "cell_type": "code",
   "execution_count": 10,
   "metadata": {},
   "outputs": [
    {
     "name": "stdout",
     "output_type": "stream",
     "text": [
      "Test statistics: {2.147616512839002}\n",
      "P_value: {0.01}\n",
      "critical_values:,{'10%': 0.119, '5%': 0.146, '2.5%': 0.176, '1%': 0.216}\n",
      "series is stationary\n"
     ]
    }
   ],
   "source": [
    "stat, p,lags, critical_values =kpss(merged_data['sales'], 'ct')\n",
    "print(f'Test statistics:',{stat})\n",
    "print(f'P_value:',{p})\n",
    "print(f'critical_values:,{critical_values}')\n",
    "if p > 0.05:\n",
    "    print('series is not stationary')\n",
    "else:\n",
    "    print('series is stationary')"
   ]
  },
  {
   "cell_type": "markdown",
   "metadata": {},
   "source": [
    "# Feature Enginering"
   ]
  },
  {
   "cell_type": "markdown",
   "metadata": {},
   "source": [
    "<b>Dropping Unneccessary Columns in The Merged and Test Datasets as it is not needed for our modelling"
   ]
  },
  {
   "cell_type": "markdown",
   "metadata": {},
   "source": [
    "From the merged data for visualization we droped the holiday data because the shape of the holiday data is small compare with what we will be needing for the modelling"
   ]
  },
  {
   "cell_type": "code",
   "execution_count": 13,
   "metadata": {},
   "outputs": [
    {
     "data": {
      "text/html": [
       "<div>\n",
       "<style scoped>\n",
       "    .dataframe tbody tr th:only-of-type {\n",
       "        vertical-align: middle;\n",
       "    }\n",
       "\n",
       "    .dataframe tbody tr th {\n",
       "        vertical-align: top;\n",
       "    }\n",
       "\n",
       "    .dataframe thead th {\n",
       "        text-align: right;\n",
       "    }\n",
       "</style>\n",
       "<table border=\"1\" class=\"dataframe\">\n",
       "  <thead>\n",
       "    <tr style=\"text-align: right;\">\n",
       "      <th></th>\n",
       "      <th>id</th>\n",
       "      <th>store_nbr</th>\n",
       "      <th>family</th>\n",
       "      <th>sales</th>\n",
       "      <th>onpromotion</th>\n",
       "      <th>city</th>\n",
       "      <th>type</th>\n",
       "      <th>cluster</th>\n",
       "      <th>transactions</th>\n",
       "      <th>dcoilwtico</th>\n",
       "      <th>year</th>\n",
       "      <th>month</th>\n",
       "    </tr>\n",
       "  </thead>\n",
       "  <tbody>\n",
       "    <tr>\n",
       "      <th>0</th>\n",
       "      <td>1782</td>\n",
       "      <td>1</td>\n",
       "      <td>AUTOMOTIVE</td>\n",
       "      <td>2.0</td>\n",
       "      <td>0</td>\n",
       "      <td>Quito</td>\n",
       "      <td>D</td>\n",
       "      <td>13</td>\n",
       "      <td>2111</td>\n",
       "      <td>93.139999</td>\n",
       "      <td>2013</td>\n",
       "      <td>1</td>\n",
       "    </tr>\n",
       "    <tr>\n",
       "      <th>1</th>\n",
       "      <td>1783</td>\n",
       "      <td>1</td>\n",
       "      <td>BABY CARE</td>\n",
       "      <td>0.0</td>\n",
       "      <td>0</td>\n",
       "      <td>Quito</td>\n",
       "      <td>D</td>\n",
       "      <td>13</td>\n",
       "      <td>2111</td>\n",
       "      <td>93.139999</td>\n",
       "      <td>2013</td>\n",
       "      <td>1</td>\n",
       "    </tr>\n",
       "    <tr>\n",
       "      <th>2</th>\n",
       "      <td>1784</td>\n",
       "      <td>1</td>\n",
       "      <td>BEAUTY</td>\n",
       "      <td>2.0</td>\n",
       "      <td>0</td>\n",
       "      <td>Quito</td>\n",
       "      <td>D</td>\n",
       "      <td>13</td>\n",
       "      <td>2111</td>\n",
       "      <td>93.139999</td>\n",
       "      <td>2013</td>\n",
       "      <td>1</td>\n",
       "    </tr>\n",
       "    <tr>\n",
       "      <th>3</th>\n",
       "      <td>1785</td>\n",
       "      <td>1</td>\n",
       "      <td>BEVERAGES</td>\n",
       "      <td>1091.0</td>\n",
       "      <td>0</td>\n",
       "      <td>Quito</td>\n",
       "      <td>D</td>\n",
       "      <td>13</td>\n",
       "      <td>2111</td>\n",
       "      <td>93.139999</td>\n",
       "      <td>2013</td>\n",
       "      <td>1</td>\n",
       "    </tr>\n",
       "    <tr>\n",
       "      <th>4</th>\n",
       "      <td>1786</td>\n",
       "      <td>1</td>\n",
       "      <td>BOOKS</td>\n",
       "      <td>0.0</td>\n",
       "      <td>0</td>\n",
       "      <td>Quito</td>\n",
       "      <td>D</td>\n",
       "      <td>13</td>\n",
       "      <td>2111</td>\n",
       "      <td>93.139999</td>\n",
       "      <td>2013</td>\n",
       "      <td>1</td>\n",
       "    </tr>\n",
       "  </tbody>\n",
       "</table>\n",
       "</div>"
      ],
      "text/plain": [
       "     id  store_nbr      family   sales  onpromotion   city type  cluster  \\\n",
       "0  1782          1  AUTOMOTIVE     2.0            0  Quito    D       13   \n",
       "1  1783          1   BABY CARE     0.0            0  Quito    D       13   \n",
       "2  1784          1      BEAUTY     2.0            0  Quito    D       13   \n",
       "3  1785          1   BEVERAGES  1091.0            0  Quito    D       13   \n",
       "4  1786          1       BOOKS     0.0            0  Quito    D       13   \n",
       "\n",
       "   transactions  dcoilwtico  year  month  \n",
       "0          2111   93.139999  2013      1  \n",
       "1          2111   93.139999  2013      1  \n",
       "2          2111   93.139999  2013      1  \n",
       "3          2111   93.139999  2013      1  \n",
       "4          2111   93.139999  2013      1  "
      ]
     },
     "execution_count": 13,
     "metadata": {},
     "output_type": "execute_result"
    }
   ],
   "source": [
    "columns_to_drop = ['state','date']\n",
    "merged_data_copy = merged_data.drop(columns=columns_to_drop)\n",
    "\n",
    "merged_data_copy.head()"
   ]
  },
  {
   "cell_type": "markdown",
   "metadata": {},
   "source": [
    "# Feature Processing"
   ]
  },
  {
   "cell_type": "code",
   "execution_count": 14,
   "metadata": {},
   "outputs": [
    {
     "data": {
      "text/html": [
       "<div>\n",
       "<style scoped>\n",
       "    .dataframe tbody tr th:only-of-type {\n",
       "        vertical-align: middle;\n",
       "    }\n",
       "\n",
       "    .dataframe tbody tr th {\n",
       "        vertical-align: top;\n",
       "    }\n",
       "\n",
       "    .dataframe thead th {\n",
       "        text-align: right;\n",
       "    }\n",
       "</style>\n",
       "<table border=\"1\" class=\"dataframe\">\n",
       "  <thead>\n",
       "    <tr style=\"text-align: right;\">\n",
       "      <th></th>\n",
       "      <th>id</th>\n",
       "      <th>store_nbr</th>\n",
       "      <th>sales</th>\n",
       "      <th>onpromotion</th>\n",
       "      <th>cluster</th>\n",
       "      <th>transactions</th>\n",
       "      <th>dcoilwtico</th>\n",
       "      <th>year</th>\n",
       "      <th>month</th>\n",
       "      <th>family_AUTOMOTIVE</th>\n",
       "      <th>...</th>\n",
       "      <th>city_Quevedo</th>\n",
       "      <th>city_Quito</th>\n",
       "      <th>city_Riobamba</th>\n",
       "      <th>city_Salinas</th>\n",
       "      <th>city_Santo Domingo</th>\n",
       "      <th>type_A</th>\n",
       "      <th>type_B</th>\n",
       "      <th>type_C</th>\n",
       "      <th>type_D</th>\n",
       "      <th>type_E</th>\n",
       "    </tr>\n",
       "  </thead>\n",
       "  <tbody>\n",
       "    <tr>\n",
       "      <th>0</th>\n",
       "      <td>1782</td>\n",
       "      <td>1</td>\n",
       "      <td>2.0</td>\n",
       "      <td>0</td>\n",
       "      <td>13</td>\n",
       "      <td>2111</td>\n",
       "      <td>93.139999</td>\n",
       "      <td>2013</td>\n",
       "      <td>1</td>\n",
       "      <td>1.0</td>\n",
       "      <td>...</td>\n",
       "      <td>0.0</td>\n",
       "      <td>1.0</td>\n",
       "      <td>0.0</td>\n",
       "      <td>0.0</td>\n",
       "      <td>0.0</td>\n",
       "      <td>0.0</td>\n",
       "      <td>0.0</td>\n",
       "      <td>0.0</td>\n",
       "      <td>1.0</td>\n",
       "      <td>0.0</td>\n",
       "    </tr>\n",
       "    <tr>\n",
       "      <th>1</th>\n",
       "      <td>1783</td>\n",
       "      <td>1</td>\n",
       "      <td>0.0</td>\n",
       "      <td>0</td>\n",
       "      <td>13</td>\n",
       "      <td>2111</td>\n",
       "      <td>93.139999</td>\n",
       "      <td>2013</td>\n",
       "      <td>1</td>\n",
       "      <td>0.0</td>\n",
       "      <td>...</td>\n",
       "      <td>0.0</td>\n",
       "      <td>1.0</td>\n",
       "      <td>0.0</td>\n",
       "      <td>0.0</td>\n",
       "      <td>0.0</td>\n",
       "      <td>0.0</td>\n",
       "      <td>0.0</td>\n",
       "      <td>0.0</td>\n",
       "      <td>1.0</td>\n",
       "      <td>0.0</td>\n",
       "    </tr>\n",
       "    <tr>\n",
       "      <th>2</th>\n",
       "      <td>1784</td>\n",
       "      <td>1</td>\n",
       "      <td>2.0</td>\n",
       "      <td>0</td>\n",
       "      <td>13</td>\n",
       "      <td>2111</td>\n",
       "      <td>93.139999</td>\n",
       "      <td>2013</td>\n",
       "      <td>1</td>\n",
       "      <td>0.0</td>\n",
       "      <td>...</td>\n",
       "      <td>0.0</td>\n",
       "      <td>1.0</td>\n",
       "      <td>0.0</td>\n",
       "      <td>0.0</td>\n",
       "      <td>0.0</td>\n",
       "      <td>0.0</td>\n",
       "      <td>0.0</td>\n",
       "      <td>0.0</td>\n",
       "      <td>1.0</td>\n",
       "      <td>0.0</td>\n",
       "    </tr>\n",
       "    <tr>\n",
       "      <th>3</th>\n",
       "      <td>1785</td>\n",
       "      <td>1</td>\n",
       "      <td>1091.0</td>\n",
       "      <td>0</td>\n",
       "      <td>13</td>\n",
       "      <td>2111</td>\n",
       "      <td>93.139999</td>\n",
       "      <td>2013</td>\n",
       "      <td>1</td>\n",
       "      <td>0.0</td>\n",
       "      <td>...</td>\n",
       "      <td>0.0</td>\n",
       "      <td>1.0</td>\n",
       "      <td>0.0</td>\n",
       "      <td>0.0</td>\n",
       "      <td>0.0</td>\n",
       "      <td>0.0</td>\n",
       "      <td>0.0</td>\n",
       "      <td>0.0</td>\n",
       "      <td>1.0</td>\n",
       "      <td>0.0</td>\n",
       "    </tr>\n",
       "    <tr>\n",
       "      <th>4</th>\n",
       "      <td>1786</td>\n",
       "      <td>1</td>\n",
       "      <td>0.0</td>\n",
       "      <td>0</td>\n",
       "      <td>13</td>\n",
       "      <td>2111</td>\n",
       "      <td>93.139999</td>\n",
       "      <td>2013</td>\n",
       "      <td>1</td>\n",
       "      <td>0.0</td>\n",
       "      <td>...</td>\n",
       "      <td>0.0</td>\n",
       "      <td>1.0</td>\n",
       "      <td>0.0</td>\n",
       "      <td>0.0</td>\n",
       "      <td>0.0</td>\n",
       "      <td>0.0</td>\n",
       "      <td>0.0</td>\n",
       "      <td>0.0</td>\n",
       "      <td>1.0</td>\n",
       "      <td>0.0</td>\n",
       "    </tr>\n",
       "  </tbody>\n",
       "</table>\n",
       "<p>5 rows × 69 columns</p>\n",
       "</div>"
      ],
      "text/plain": [
       "     id  store_nbr   sales  onpromotion  cluster  transactions  dcoilwtico  \\\n",
       "0  1782          1     2.0            0       13          2111   93.139999   \n",
       "1  1783          1     0.0            0       13          2111   93.139999   \n",
       "2  1784          1     2.0            0       13          2111   93.139999   \n",
       "3  1785          1  1091.0            0       13          2111   93.139999   \n",
       "4  1786          1     0.0            0       13          2111   93.139999   \n",
       "\n",
       "   year  month  family_AUTOMOTIVE  ...  city_Quevedo  city_Quito  \\\n",
       "0  2013      1                1.0  ...           0.0         1.0   \n",
       "1  2013      1                0.0  ...           0.0         1.0   \n",
       "2  2013      1                0.0  ...           0.0         1.0   \n",
       "3  2013      1                0.0  ...           0.0         1.0   \n",
       "4  2013      1                0.0  ...           0.0         1.0   \n",
       "\n",
       "   city_Riobamba  city_Salinas  city_Santo Domingo  type_A  type_B  type_C  \\\n",
       "0            0.0           0.0                 0.0     0.0     0.0     0.0   \n",
       "1            0.0           0.0                 0.0     0.0     0.0     0.0   \n",
       "2            0.0           0.0                 0.0     0.0     0.0     0.0   \n",
       "3            0.0           0.0                 0.0     0.0     0.0     0.0   \n",
       "4            0.0           0.0                 0.0     0.0     0.0     0.0   \n",
       "\n",
       "   type_D  type_E  \n",
       "0     1.0     0.0  \n",
       "1     1.0     0.0  \n",
       "2     1.0     0.0  \n",
       "3     1.0     0.0  \n",
       "4     1.0     0.0  \n",
       "\n",
       "[5 rows x 69 columns]"
      ]
     },
     "execution_count": 14,
     "metadata": {},
     "output_type": "execute_result"
    }
   ],
   "source": [
    "\n",
    "\n",
    "# Define the categorical columns to encode\n",
    "categorical_columns = [\"family\", \"city\",'type']\n",
    "\n",
    "# Perform one-hot encoding\n",
    "encoder = OneHotEncoder()\n",
    "one_hot_encoded_data = encoder.fit_transform(merged_data_copy[categorical_columns])\n",
    "\n",
    "# Create column names for the one-hot encoded data\n",
    "column_names = encoder.get_feature_names_out(categorical_columns)\n",
    "\n",
    "# Convert the one-hot encoded data to a DataFrame\n",
    "merged_df_encoded = pd.DataFrame(one_hot_encoded_data.toarray(), columns=column_names)\n",
    "\n",
    "# Concatenate the original dataframe with the one-hot encoded data\n",
    "merged_df_encoded = pd.concat([merged_data_copy, merged_df_encoded], axis=1)\n",
    "\n",
    "# Drop the original categorical columns\n",
    "merged_df_encoded.drop(categorical_columns, axis=1, inplace=True)\n",
    "\n",
    "# Print the head of the encoded DataFrame\n",
    "merged_df_encoded.head()"
   ]
  },
  {
   "cell_type": "code",
   "execution_count": 15,
   "metadata": {},
   "outputs": [],
   "source": [
    "dates = merged_data['date']\n",
    "values = merged_data['sales']\n",
    "differences = np.diff(values)"
   ]
  },
  {
   "cell_type": "code",
   "execution_count": null,
   "metadata": {},
   "outputs": [],
   "source": [
    "fig = px.line(merged_data, x='date', y='sales', title='sales over time')\n",
    "fig.update_xaxes(rangeslider_visible=True)\n",
    "fig.show"
   ]
  },
  {
   "cell_type": "markdown",
   "metadata": {},
   "source": [
    "# Modelling"
   ]
  },
  {
   "cell_type": "markdown",
   "metadata": {},
   "source": [
    "<b> seperating the train data and eval data"
   ]
  },
  {
   "cell_type": "code",
   "execution_count": 15,
   "metadata": {},
   "outputs": [],
   "source": [
    "train_set=merged_df_encoded.loc[merged_df_encoded['year'].isin([2013,2014,2015,2016])]\n",
    "eval_set=merged_df_encoded.loc[merged_df_encoded['year'] == 2017]"
   ]
  },
  {
   "cell_type": "code",
   "execution_count": 35,
   "metadata": {},
   "outputs": [
    {
     "data": {
      "text/plain": [
       "(1682373, 69)"
      ]
     },
     "execution_count": 35,
     "metadata": {},
     "output_type": "execute_result"
    }
   ],
   "source": [
    "train_set.shape"
   ]
  },
  {
   "cell_type": "code",
   "execution_count": 36,
   "metadata": {},
   "outputs": [
    {
     "data": {
      "text/plain": [
       "Index(['id', 'store_nbr', 'sales', 'onpromotion', 'cluster', 'transactions',\n",
       "       'dcoilwtico', 'year', 'month', 'family_AUTOMOTIVE', 'family_BABY CARE',\n",
       "       'family_BEAUTY', 'family_BEVERAGES', 'family_BOOKS',\n",
       "       'family_BREAD/BAKERY', 'family_CELEBRATION', 'family_CLEANING',\n",
       "       'family_DAIRY', 'family_DELI', 'family_EGGS', 'family_FROZEN FOODS',\n",
       "       'family_GROCERY I', 'family_GROCERY II', 'family_HARDWARE',\n",
       "       'family_HOME AND KITCHEN I', 'family_HOME AND KITCHEN II',\n",
       "       'family_HOME APPLIANCES', 'family_HOME CARE', 'family_LADIESWEAR',\n",
       "       'family_LAWN AND GARDEN', 'family_LINGERIE', 'family_LIQUOR,WINE,BEER',\n",
       "       'family_MAGAZINES', 'family_MEATS', 'family_PERSONAL CARE',\n",
       "       'family_PET SUPPLIES', 'family_PLAYERS AND ELECTRONICS',\n",
       "       'family_POULTRY', 'family_PREPARED FOODS', 'family_PRODUCE',\n",
       "       'family_SCHOOL AND OFFICE SUPPLIES', 'family_SEAFOOD', 'city_Ambato',\n",
       "       'city_Babahoyo', 'city_Cayambe', 'city_Cuenca', 'city_Daule',\n",
       "       'city_El Carmen', 'city_Esmeraldas', 'city_Guaranda', 'city_Guayaquil',\n",
       "       'city_Ibarra', 'city_Latacunga', 'city_Libertad', 'city_Loja',\n",
       "       'city_Machala', 'city_Manta', 'city_Playas', 'city_Puyo',\n",
       "       'city_Quevedo', 'city_Quito', 'city_Riobamba', 'city_Salinas',\n",
       "       'city_Santo Domingo', 'type_A', 'type_B', 'type_C', 'type_D', 'type_E'],\n",
       "      dtype='object')"
      ]
     },
     "execution_count": 36,
     "metadata": {},
     "output_type": "execute_result"
    }
   ],
   "source": [
    "train_set.columns"
   ]
  },
  {
   "cell_type": "code",
   "execution_count": 25,
   "metadata": {},
   "outputs": [
    {
     "data": {
      "text/plain": [
       "(286110, 71)"
      ]
     },
     "execution_count": 25,
     "metadata": {},
     "output_type": "execute_result"
    }
   ],
   "source": []
  },
  {
   "cell_type": "code",
   "execution_count": 16,
   "metadata": {},
   "outputs": [],
   "source": [
    "# Separate the target variable and features for training and testing\n",
    "X_train = train_set.drop('sales', axis=1)\n",
    "y_train = train_set['sales'] \n",
    "\n",
    "\n",
    "X_eval = eval_set.drop('sales', axis=1)  \n",
    "y_eval = eval_set['sales']"
   ]
  },
  {
   "cell_type": "code",
   "execution_count": null,
   "metadata": {},
   "outputs": [],
   "source": []
  },
  {
   "cell_type": "code",
   "execution_count": 17,
   "metadata": {},
   "outputs": [
    {
     "name": "stdout",
     "output_type": "stream",
     "text": [
      "(1682373, 68)\n",
      "(1682373,)\n",
      "(286110, 68)\n",
      "(286110,)\n"
     ]
    }
   ],
   "source": [
    "print(X_train.shape)\n",
    "print(y_train.shape)\n",
    "print(X_eval.shape)\n",
    "print(y_eval.shape)"
   ]
  },
  {
   "cell_type": "markdown",
   "metadata": {},
   "source": [
    "# Random Forest Regression"
   ]
  },
  {
   "cell_type": "code",
   "execution_count": 13,
   "metadata": {},
   "outputs": [
    {
     "name": "stdout",
     "output_type": "stream",
     "text": [
      "624596.6993456223\n",
      "1.9488570489070132\n",
      "8.497034543449024\n",
      "2.9149673314548523\n"
     ]
    }
   ],
   "source": [
    "rf = RandomForestRegressor(n_estimators=300, max_features='sqrt',max_depth=5,random_state=18).fit(X_train,y_train)\n",
    "\n",
    "rf_pred= rf.predict(X_eval)\n",
    "rf_mse= mean_squared_error(y_eval,rf_pred)\n",
    "rf_rmse= rf_mse**.05\n",
    "rf_msle = mean_squared_log_error(y_eval, rf_pred)\n",
    "rf_rmsle = np.sqrt(mean_squared_log_error(y_eval,rf_pred))\n",
    "print(rf_mse)\n",
    "print(rf_rmse)\n",
    "print(rf_msle)\n",
    "print(rf_rmsle)"
   ]
  },
  {
   "cell_type": "code",
   "execution_count": 20,
   "metadata": {},
   "outputs": [
    {
     "data": {
      "application/vnd.plotly.v1+json": {
       "config": {
        "plotlyServerURL": "https://plot.ly"
       },
       "data": [
        {
         "alignmentgroup": "True",
         "hovertemplate": "feature=%{x}<br>y_eval=%{y}<extra></extra>",
         "legendgroup": "",
         "marker": {
          "color": "#636efa",
          "pattern": {
           "shape": ""
          }
         },
         "name": "",
         "offsetgroup": "",
         "orientation": "v",
         "showlegend": false,
         "textposition": "auto",
         "type": "bar",
         "x": [
          "family_GROCERY I",
          "onpromotion",
          "family_BEVERAGES",
          "transactions",
          "family_PRODUCE",
          "type_A",
          "family_CLEANING",
          "store_nbr",
          "city_Quito",
          "type_C",
          "id",
          "dcoilwtico",
          "year",
          "cluster",
          "family_DAIRY",
          "family_BOOKS",
          "family_HOME APPLIANCES",
          "month",
          "family_BABY CARE",
          "family_PET SUPPLIES",
          "family_DELI",
          "family_SCHOOL AND OFFICE SUPPLIES",
          "type_D",
          "family_PERSONAL CARE",
          "family_MAGAZINES",
          "family_BEAUTY",
          "family_HARDWARE",
          "family_AUTOMOTIVE",
          "city_Cayambe",
          "family_EGGS",
          "type_B",
          "family_LADIESWEAR",
          "family_BREAD/BAKERY",
          "city_Guayaquil",
          "family_LAWN AND GARDEN",
          "family_LINGERIE",
          "family_POULTRY",
          "city_El Carmen",
          "family_CELEBRATION",
          "family_FROZEN FOODS",
          "family_SEAFOOD",
          "city_Ambato",
          "family_HOME CARE",
          "family_PLAYERS AND ELECTRONICS",
          "city_Latacunga",
          "city_Playas",
          "family_HOME AND KITCHEN II",
          "family_GROCERY II",
          "city_Machala",
          "city_Manta",
          "family_MEATS",
          "family_HOME AND KITCHEN I",
          "type_E",
          "family_PREPARED FOODS",
          "city_Santo Domingo",
          "city_Salinas",
          "city_Esmeraldas",
          "city_Riobamba",
          "city_Cuenca",
          "city_Puyo",
          "city_Ibarra",
          "family_LIQUOR,WINE,BEER",
          "city_Loja",
          "city_Guaranda",
          "city_Daule",
          "city_Quevedo",
          "city_Babahoyo",
          "city_Libertad"
         ],
         "xaxis": "x",
         "y": [
          0.3962250094605026,
          0.18118474756695935,
          0.1416682585658864,
          0.058151120118329215,
          0.051149146627037664,
          0.032040584536676804,
          0.022614349721732624,
          0.021252026298718963,
          0.014737895278780385,
          0.01217390990609813,
          0.011054859547923821,
          0.008182471694949492,
          0.007682729561447122,
          0.006634289032366681,
          0.0038009183413971774,
          0.002508221264278754,
          0.002153607020993899,
          0.002096919331943822,
          0.00207666210811851,
          0.0018785227613063935,
          0.0018266804586436888,
          0.0016761858284585157,
          0.0015086166855358394,
          0.0012399122712012341,
          0.0012295249120092642,
          0.0011754283114626667,
          0.0011400927402820133,
          0.0008098284670783493,
          0.0007878305311563886,
          0.0007866343810890765,
          0.000761347809697551,
          0.0006899087779983433,
          0.0005765618583767846,
          0.0005106800099239541,
          0.0005084258720286932,
          0.0005068061237012441,
          0.00043267745000443754,
          0.00038399720261315907,
          0.0003441838779373432,
          0.00033057804780364146,
          0.0003274439193728942,
          0.0003221118163262344,
          0.00028798892740452745,
          0.00027023273711082715,
          0.000260105456348547,
          0.00022954290964410722,
          0.0002104422960068493,
          0.00018878690238746917,
          0.00018710962330622307,
          0.00015482699410882187,
          0.0001455933302196266,
          0.00013221250134636412,
          0.00013210449216753196,
          0.00012856998405495849,
          0.00009857665251928959,
          0.0000978965130765519,
          0.00005334910042692919,
          0.00005288703499658364,
          0.000047024270558452835,
          0.000037405995642986675,
          0.00003521500073540439,
          0.000022997215640944442,
          0.000022840231356200455,
          0.0000173567360403344,
          0.000013729126413495267,
          0.000013690563468302442,
          0.00001088243988106771,
          0.000006926866988546203
         ],
         "yaxis": "y"
        }
       ],
       "layout": {
        "barmode": "relative",
        "legend": {
         "tracegroupgap": 0
        },
        "margin": {
         "t": 60
        },
        "template": {
         "data": {
          "bar": [
           {
            "error_x": {
             "color": "#2a3f5f"
            },
            "error_y": {
             "color": "#2a3f5f"
            },
            "marker": {
             "line": {
              "color": "#E5ECF6",
              "width": 0.5
             },
             "pattern": {
              "fillmode": "overlay",
              "size": 10,
              "solidity": 0.2
             }
            },
            "type": "bar"
           }
          ],
          "barpolar": [
           {
            "marker": {
             "line": {
              "color": "#E5ECF6",
              "width": 0.5
             },
             "pattern": {
              "fillmode": "overlay",
              "size": 10,
              "solidity": 0.2
             }
            },
            "type": "barpolar"
           }
          ],
          "carpet": [
           {
            "aaxis": {
             "endlinecolor": "#2a3f5f",
             "gridcolor": "white",
             "linecolor": "white",
             "minorgridcolor": "white",
             "startlinecolor": "#2a3f5f"
            },
            "baxis": {
             "endlinecolor": "#2a3f5f",
             "gridcolor": "white",
             "linecolor": "white",
             "minorgridcolor": "white",
             "startlinecolor": "#2a3f5f"
            },
            "type": "carpet"
           }
          ],
          "choropleth": [
           {
            "colorbar": {
             "outlinewidth": 0,
             "ticks": ""
            },
            "type": "choropleth"
           }
          ],
          "contour": [
           {
            "colorbar": {
             "outlinewidth": 0,
             "ticks": ""
            },
            "colorscale": [
             [
              0,
              "#0d0887"
             ],
             [
              0.1111111111111111,
              "#46039f"
             ],
             [
              0.2222222222222222,
              "#7201a8"
             ],
             [
              0.3333333333333333,
              "#9c179e"
             ],
             [
              0.4444444444444444,
              "#bd3786"
             ],
             [
              0.5555555555555556,
              "#d8576b"
             ],
             [
              0.6666666666666666,
              "#ed7953"
             ],
             [
              0.7777777777777778,
              "#fb9f3a"
             ],
             [
              0.8888888888888888,
              "#fdca26"
             ],
             [
              1,
              "#f0f921"
             ]
            ],
            "type": "contour"
           }
          ],
          "contourcarpet": [
           {
            "colorbar": {
             "outlinewidth": 0,
             "ticks": ""
            },
            "type": "contourcarpet"
           }
          ],
          "heatmap": [
           {
            "colorbar": {
             "outlinewidth": 0,
             "ticks": ""
            },
            "colorscale": [
             [
              0,
              "#0d0887"
             ],
             [
              0.1111111111111111,
              "#46039f"
             ],
             [
              0.2222222222222222,
              "#7201a8"
             ],
             [
              0.3333333333333333,
              "#9c179e"
             ],
             [
              0.4444444444444444,
              "#bd3786"
             ],
             [
              0.5555555555555556,
              "#d8576b"
             ],
             [
              0.6666666666666666,
              "#ed7953"
             ],
             [
              0.7777777777777778,
              "#fb9f3a"
             ],
             [
              0.8888888888888888,
              "#fdca26"
             ],
             [
              1,
              "#f0f921"
             ]
            ],
            "type": "heatmap"
           }
          ],
          "heatmapgl": [
           {
            "colorbar": {
             "outlinewidth": 0,
             "ticks": ""
            },
            "colorscale": [
             [
              0,
              "#0d0887"
             ],
             [
              0.1111111111111111,
              "#46039f"
             ],
             [
              0.2222222222222222,
              "#7201a8"
             ],
             [
              0.3333333333333333,
              "#9c179e"
             ],
             [
              0.4444444444444444,
              "#bd3786"
             ],
             [
              0.5555555555555556,
              "#d8576b"
             ],
             [
              0.6666666666666666,
              "#ed7953"
             ],
             [
              0.7777777777777778,
              "#fb9f3a"
             ],
             [
              0.8888888888888888,
              "#fdca26"
             ],
             [
              1,
              "#f0f921"
             ]
            ],
            "type": "heatmapgl"
           }
          ],
          "histogram": [
           {
            "marker": {
             "pattern": {
              "fillmode": "overlay",
              "size": 10,
              "solidity": 0.2
             }
            },
            "type": "histogram"
           }
          ],
          "histogram2d": [
           {
            "colorbar": {
             "outlinewidth": 0,
             "ticks": ""
            },
            "colorscale": [
             [
              0,
              "#0d0887"
             ],
             [
              0.1111111111111111,
              "#46039f"
             ],
             [
              0.2222222222222222,
              "#7201a8"
             ],
             [
              0.3333333333333333,
              "#9c179e"
             ],
             [
              0.4444444444444444,
              "#bd3786"
             ],
             [
              0.5555555555555556,
              "#d8576b"
             ],
             [
              0.6666666666666666,
              "#ed7953"
             ],
             [
              0.7777777777777778,
              "#fb9f3a"
             ],
             [
              0.8888888888888888,
              "#fdca26"
             ],
             [
              1,
              "#f0f921"
             ]
            ],
            "type": "histogram2d"
           }
          ],
          "histogram2dcontour": [
           {
            "colorbar": {
             "outlinewidth": 0,
             "ticks": ""
            },
            "colorscale": [
             [
              0,
              "#0d0887"
             ],
             [
              0.1111111111111111,
              "#46039f"
             ],
             [
              0.2222222222222222,
              "#7201a8"
             ],
             [
              0.3333333333333333,
              "#9c179e"
             ],
             [
              0.4444444444444444,
              "#bd3786"
             ],
             [
              0.5555555555555556,
              "#d8576b"
             ],
             [
              0.6666666666666666,
              "#ed7953"
             ],
             [
              0.7777777777777778,
              "#fb9f3a"
             ],
             [
              0.8888888888888888,
              "#fdca26"
             ],
             [
              1,
              "#f0f921"
             ]
            ],
            "type": "histogram2dcontour"
           }
          ],
          "mesh3d": [
           {
            "colorbar": {
             "outlinewidth": 0,
             "ticks": ""
            },
            "type": "mesh3d"
           }
          ],
          "parcoords": [
           {
            "line": {
             "colorbar": {
              "outlinewidth": 0,
              "ticks": ""
             }
            },
            "type": "parcoords"
           }
          ],
          "pie": [
           {
            "automargin": true,
            "type": "pie"
           }
          ],
          "scatter": [
           {
            "fillpattern": {
             "fillmode": "overlay",
             "size": 10,
             "solidity": 0.2
            },
            "type": "scatter"
           }
          ],
          "scatter3d": [
           {
            "line": {
             "colorbar": {
              "outlinewidth": 0,
              "ticks": ""
             }
            },
            "marker": {
             "colorbar": {
              "outlinewidth": 0,
              "ticks": ""
             }
            },
            "type": "scatter3d"
           }
          ],
          "scattercarpet": [
           {
            "marker": {
             "colorbar": {
              "outlinewidth": 0,
              "ticks": ""
             }
            },
            "type": "scattercarpet"
           }
          ],
          "scattergeo": [
           {
            "marker": {
             "colorbar": {
              "outlinewidth": 0,
              "ticks": ""
             }
            },
            "type": "scattergeo"
           }
          ],
          "scattergl": [
           {
            "marker": {
             "colorbar": {
              "outlinewidth": 0,
              "ticks": ""
             }
            },
            "type": "scattergl"
           }
          ],
          "scattermapbox": [
           {
            "marker": {
             "colorbar": {
              "outlinewidth": 0,
              "ticks": ""
             }
            },
            "type": "scattermapbox"
           }
          ],
          "scatterpolar": [
           {
            "marker": {
             "colorbar": {
              "outlinewidth": 0,
              "ticks": ""
             }
            },
            "type": "scatterpolar"
           }
          ],
          "scatterpolargl": [
           {
            "marker": {
             "colorbar": {
              "outlinewidth": 0,
              "ticks": ""
             }
            },
            "type": "scatterpolargl"
           }
          ],
          "scatterternary": [
           {
            "marker": {
             "colorbar": {
              "outlinewidth": 0,
              "ticks": ""
             }
            },
            "type": "scatterternary"
           }
          ],
          "surface": [
           {
            "colorbar": {
             "outlinewidth": 0,
             "ticks": ""
            },
            "colorscale": [
             [
              0,
              "#0d0887"
             ],
             [
              0.1111111111111111,
              "#46039f"
             ],
             [
              0.2222222222222222,
              "#7201a8"
             ],
             [
              0.3333333333333333,
              "#9c179e"
             ],
             [
              0.4444444444444444,
              "#bd3786"
             ],
             [
              0.5555555555555556,
              "#d8576b"
             ],
             [
              0.6666666666666666,
              "#ed7953"
             ],
             [
              0.7777777777777778,
              "#fb9f3a"
             ],
             [
              0.8888888888888888,
              "#fdca26"
             ],
             [
              1,
              "#f0f921"
             ]
            ],
            "type": "surface"
           }
          ],
          "table": [
           {
            "cells": {
             "fill": {
              "color": "#EBF0F8"
             },
             "line": {
              "color": "white"
             }
            },
            "header": {
             "fill": {
              "color": "#C8D4E3"
             },
             "line": {
              "color": "white"
             }
            },
            "type": "table"
           }
          ]
         },
         "layout": {
          "annotationdefaults": {
           "arrowcolor": "#2a3f5f",
           "arrowhead": 0,
           "arrowwidth": 1
          },
          "autotypenumbers": "strict",
          "coloraxis": {
           "colorbar": {
            "outlinewidth": 0,
            "ticks": ""
           }
          },
          "colorscale": {
           "diverging": [
            [
             0,
             "#8e0152"
            ],
            [
             0.1,
             "#c51b7d"
            ],
            [
             0.2,
             "#de77ae"
            ],
            [
             0.3,
             "#f1b6da"
            ],
            [
             0.4,
             "#fde0ef"
            ],
            [
             0.5,
             "#f7f7f7"
            ],
            [
             0.6,
             "#e6f5d0"
            ],
            [
             0.7,
             "#b8e186"
            ],
            [
             0.8,
             "#7fbc41"
            ],
            [
             0.9,
             "#4d9221"
            ],
            [
             1,
             "#276419"
            ]
           ],
           "sequential": [
            [
             0,
             "#0d0887"
            ],
            [
             0.1111111111111111,
             "#46039f"
            ],
            [
             0.2222222222222222,
             "#7201a8"
            ],
            [
             0.3333333333333333,
             "#9c179e"
            ],
            [
             0.4444444444444444,
             "#bd3786"
            ],
            [
             0.5555555555555556,
             "#d8576b"
            ],
            [
             0.6666666666666666,
             "#ed7953"
            ],
            [
             0.7777777777777778,
             "#fb9f3a"
            ],
            [
             0.8888888888888888,
             "#fdca26"
            ],
            [
             1,
             "#f0f921"
            ]
           ],
           "sequentialminus": [
            [
             0,
             "#0d0887"
            ],
            [
             0.1111111111111111,
             "#46039f"
            ],
            [
             0.2222222222222222,
             "#7201a8"
            ],
            [
             0.3333333333333333,
             "#9c179e"
            ],
            [
             0.4444444444444444,
             "#bd3786"
            ],
            [
             0.5555555555555556,
             "#d8576b"
            ],
            [
             0.6666666666666666,
             "#ed7953"
            ],
            [
             0.7777777777777778,
             "#fb9f3a"
            ],
            [
             0.8888888888888888,
             "#fdca26"
            ],
            [
             1,
             "#f0f921"
            ]
           ]
          },
          "colorway": [
           "#636efa",
           "#EF553B",
           "#00cc96",
           "#ab63fa",
           "#FFA15A",
           "#19d3f3",
           "#FF6692",
           "#B6E880",
           "#FF97FF",
           "#FECB52"
          ],
          "font": {
           "color": "#2a3f5f"
          },
          "geo": {
           "bgcolor": "white",
           "lakecolor": "white",
           "landcolor": "#E5ECF6",
           "showlakes": true,
           "showland": true,
           "subunitcolor": "white"
          },
          "hoverlabel": {
           "align": "left"
          },
          "hovermode": "closest",
          "mapbox": {
           "style": "light"
          },
          "paper_bgcolor": "white",
          "plot_bgcolor": "#E5ECF6",
          "polar": {
           "angularaxis": {
            "gridcolor": "white",
            "linecolor": "white",
            "ticks": ""
           },
           "bgcolor": "#E5ECF6",
           "radialaxis": {
            "gridcolor": "white",
            "linecolor": "white",
            "ticks": ""
           }
          },
          "scene": {
           "xaxis": {
            "backgroundcolor": "#E5ECF6",
            "gridcolor": "white",
            "gridwidth": 2,
            "linecolor": "white",
            "showbackground": true,
            "ticks": "",
            "zerolinecolor": "white"
           },
           "yaxis": {
            "backgroundcolor": "#E5ECF6",
            "gridcolor": "white",
            "gridwidth": 2,
            "linecolor": "white",
            "showbackground": true,
            "ticks": "",
            "zerolinecolor": "white"
           },
           "zaxis": {
            "backgroundcolor": "#E5ECF6",
            "gridcolor": "white",
            "gridwidth": 2,
            "linecolor": "white",
            "showbackground": true,
            "ticks": "",
            "zerolinecolor": "white"
           }
          },
          "shapedefaults": {
           "line": {
            "color": "#2a3f5f"
           }
          },
          "ternary": {
           "aaxis": {
            "gridcolor": "white",
            "linecolor": "white",
            "ticks": ""
           },
           "baxis": {
            "gridcolor": "white",
            "linecolor": "white",
            "ticks": ""
           },
           "bgcolor": "#E5ECF6",
           "caxis": {
            "gridcolor": "white",
            "linecolor": "white",
            "ticks": ""
           }
          },
          "title": {
           "x": 0.05
          },
          "xaxis": {
           "automargin": true,
           "gridcolor": "white",
           "linecolor": "white",
           "ticks": "",
           "title": {
            "standoff": 15
           },
           "zerolinecolor": "white",
           "zerolinewidth": 2
          },
          "yaxis": {
           "automargin": true,
           "gridcolor": "white",
           "linecolor": "white",
           "ticks": "",
           "title": {
            "standoff": 15
           },
           "zerolinecolor": "white",
           "zerolinewidth": 2
          }
         }
        },
        "xaxis": {
         "anchor": "y",
         "domain": [
          0,
          1
         ],
         "title": {
          "text": "feature"
         }
        },
        "yaxis": {
         "anchor": "x",
         "domain": [
          0,
          1
         ],
         "title": {
          "text": "y_eval"
         }
        }
       }
      }
     },
     "metadata": {},
     "output_type": "display_data"
    }
   ],
   "source": [
    "# Assuming X_eval is your feature matrix and y_eval is the target variable\n",
    "rf_importance = pd.DataFrame({'feature': X_eval.columns, 'y_eval': rf.feature_importances_})\n",
    "rf_importance.sort_values(by='y_eval', ascending=False, inplace=True)\n",
    "\n",
    "fig = px.bar(rf_importance, x='feature', y='y_eval')\n",
    "fig.show()\n"
   ]
  },
  {
   "cell_type": "markdown",
   "metadata": {},
   "source": [
    "# Decision Tree Model"
   ]
  },
  {
   "cell_type": "code",
   "execution_count": 21,
   "metadata": {},
   "outputs": [],
   "source": [
    "from sklearn.tree import DecisionTreeRegressor\n",
    "from xgboost import XGBRegressor\n",
    "\n",
    "# Create an instance of DecisionTreeRegressor\n",
    "dt_regressor = DecisionTreeRegressor()"
   ]
  },
  {
   "cell_type": "code",
   "execution_count": 24,
   "metadata": {},
   "outputs": [
    {
     "name": "stdout",
     "output_type": "stream",
     "text": [
      "tree mse:584655.2451803001\n",
      "tree rmse:764.6275205486003\n",
      "tree msle:0.49666339540119864\n",
      "tree rmsle:0.7047434961751677\n"
     ]
    }
   ],
   "source": [
    "\n",
    "dt_regressor = DecisionTreeRegressor(random_state=0)\n",
    "dt_regressor.fit(X_train,y_train)\n",
    "\n",
    "tree_pred= dt_regressor.predict(X_eval)\n",
    "tree_mse= mean_squared_error(y_eval,tree_pred)\n",
    "tree_rmse=np.sqrt(mean_squared_error(y_eval,tree_pred))\n",
    "tree_msle = mean_squared_log_error(y_eval, tree_pred)\n",
    "tree_rmsle = np.sqrt(mean_squared_log_error(y_eval,tree_pred))\n",
    "print(f'tree mse:{tree_mse}')\n",
    "print( f'tree rmse:{tree_rmse}')\n",
    "print(f'tree msle:{tree_msle}')\n",
    "print(f'tree rmsle:{tree_rmsle}')"
   ]
  },
  {
   "cell_type": "markdown",
   "metadata": {},
   "source": [
    "# XGBOOST Model"
   ]
  },
  {
   "cell_type": "code",
   "execution_count": 29,
   "metadata": {},
   "outputs": [
    {
     "name": "stdout",
     "output_type": "stream",
     "text": [
      "[0]\tvalidation_0-rmsle:3.15043\tvalidation_0-rmse:924.21832\n",
      "[99]\tvalidation_0-rmsle:nan\tvalidation_0-rmse:333.64079\n"
     ]
    }
   ],
   "source": [
    "xgb_regresssor = XGBRegressor(max_leaves=0, random_state=0)\n",
    "xgb_model =xgb_regresssor.fit(X_train,y_train, \n",
    "                                eval_metric=['rmsle','rmse'],\n",
    "                                eval_set=[(X_eval,y_eval)],\n",
    "                                verbose=100)\n"
   ]
  },
  {
   "cell_type": "code",
   "execution_count": 19,
   "metadata": {},
   "outputs": [],
   "source": [
    "from statsmodels.tsa.ar_model import AutoReg\n",
    "from statsmodels.graphics.tsaplots import plot_predict"
   ]
  },
  {
   "cell_type": "code",
   "execution_count": 20,
   "metadata": {},
   "outputs": [
    {
     "ename": "TypeError",
     "evalue": "can only concatenate list (not \"str\") to list",
     "output_type": "error",
     "traceback": [
      "\u001b[1;31m---------------------------------------------------------------------------\u001b[0m",
      "\u001b[1;31mTypeError\u001b[0m                                 Traceback (most recent call last)",
      "Cell \u001b[1;32mIn[20], line 1\u001b[0m\n\u001b[1;32m----> 1\u001b[0m model \u001b[38;5;241m=\u001b[39m AutoReg(X_train, lags\u001b[38;5;241m=\u001b[39m\u001b[38;5;241m1\u001b[39m)\n\u001b[0;32m      2\u001b[0m results \u001b[38;5;241m=\u001b[39m model\u001b[38;5;241m.\u001b[39mfit()\n\u001b[0;32m      4\u001b[0m plt\u001b[38;5;241m.\u001b[39mplot(X_train, label\u001b[38;5;241m=\u001b[39m\u001b[38;5;124m'\u001b[39m\u001b[38;5;124mActual\u001b[39m\u001b[38;5;124m'\u001b[39m)\n",
      "File \u001b[1;32mc:\\Users\\DELL\\anaconda3\\Lib\\site-packages\\statsmodels\\tsa\\ar_model.py:261\u001b[0m, in \u001b[0;36mAutoReg.__init__\u001b[1;34m(self, endog, lags, trend, seasonal, exog, hold_back, period, missing, deterministic, old_names)\u001b[0m\n\u001b[0;32m    252\u001b[0m     warnings\u001b[38;5;241m.\u001b[39mwarn(\n\u001b[0;32m    253\u001b[0m         \u001b[38;5;124m\"\u001b[39m\u001b[38;5;124mold_names will be removed after the 0.14 release. You should \u001b[39m\u001b[38;5;124m\"\u001b[39m\n\u001b[0;32m    254\u001b[0m         \u001b[38;5;124m\"\u001b[39m\u001b[38;5;124mstop setting this parameter and use the new names.\u001b[39m\u001b[38;5;124m\"\u001b[39m,\n\u001b[0;32m    255\u001b[0m         \u001b[38;5;167;01mFutureWarning\u001b[39;00m,\n\u001b[0;32m    256\u001b[0m         stacklevel\u001b[38;5;241m=\u001b[39m\u001b[38;5;241m2\u001b[39m,\n\u001b[0;32m    257\u001b[0m     )\n\u001b[0;32m    258\u001b[0m \u001b[38;5;28mself\u001b[39m\u001b[38;5;241m.\u001b[39m_lags, \u001b[38;5;28mself\u001b[39m\u001b[38;5;241m.\u001b[39m_hold_back \u001b[38;5;241m=\u001b[39m \u001b[38;5;28mself\u001b[39m\u001b[38;5;241m.\u001b[39m_check_lags(\n\u001b[0;32m    259\u001b[0m     lags, int_like(hold_back, \u001b[38;5;124m\"\u001b[39m\u001b[38;5;124mhold_back\u001b[39m\u001b[38;5;124m\"\u001b[39m, optional\u001b[38;5;241m=\u001b[39m\u001b[38;5;28;01mTrue\u001b[39;00m)\n\u001b[0;32m    260\u001b[0m )\n\u001b[1;32m--> 261\u001b[0m \u001b[38;5;28mself\u001b[39m\u001b[38;5;241m.\u001b[39m_setup_regressors()\n\u001b[0;32m    262\u001b[0m \u001b[38;5;28mself\u001b[39m\u001b[38;5;241m.\u001b[39mnobs \u001b[38;5;241m=\u001b[39m \u001b[38;5;28mself\u001b[39m\u001b[38;5;241m.\u001b[39m_y\u001b[38;5;241m.\u001b[39mshape[\u001b[38;5;241m0\u001b[39m]\n\u001b[0;32m    263\u001b[0m \u001b[38;5;28mself\u001b[39m\u001b[38;5;241m.\u001b[39mdata\u001b[38;5;241m.\u001b[39mxnames \u001b[38;5;241m=\u001b[39m \u001b[38;5;28mself\u001b[39m\u001b[38;5;241m.\u001b[39mexog_names\n",
      "File \u001b[1;32mc:\\Users\\DELL\\anaconda3\\Lib\\site-packages\\statsmodels\\tsa\\ar_model.py:357\u001b[0m, in \u001b[0;36mAutoReg._setup_regressors\u001b[1;34m(self)\u001b[0m\n\u001b[0;32m    354\u001b[0m endog_names \u001b[38;5;241m=\u001b[39m \u001b[38;5;28mself\u001b[39m\u001b[38;5;241m.\u001b[39mendog_names\n\u001b[0;32m    355\u001b[0m x, y \u001b[38;5;241m=\u001b[39m lagmat(\u001b[38;5;28mself\u001b[39m\u001b[38;5;241m.\u001b[39mendog, maxlag, original\u001b[38;5;241m=\u001b[39m\u001b[38;5;124m\"\u001b[39m\u001b[38;5;124msep\u001b[39m\u001b[38;5;124m\"\u001b[39m)\n\u001b[0;32m    356\u001b[0m exog_names\u001b[38;5;241m.\u001b[39mextend(\n\u001b[1;32m--> 357\u001b[0m     [endog_names \u001b[38;5;241m+\u001b[39m \u001b[38;5;124m\"\u001b[39m\u001b[38;5;124m.L\u001b[39m\u001b[38;5;132;01m{0}\u001b[39;00m\u001b[38;5;124m\"\u001b[39m\u001b[38;5;241m.\u001b[39mformat(lag) \u001b[38;5;28;01mfor\u001b[39;00m lag \u001b[38;5;129;01min\u001b[39;00m \u001b[38;5;28mself\u001b[39m\u001b[38;5;241m.\u001b[39m_lags]\n\u001b[0;32m    358\u001b[0m )\n\u001b[0;32m    359\u001b[0m \u001b[38;5;28;01mif\u001b[39;00m \u001b[38;5;28mlen\u001b[39m(\u001b[38;5;28mself\u001b[39m\u001b[38;5;241m.\u001b[39m_lags) \u001b[38;5;241m<\u001b[39m maxlag:\n\u001b[0;32m    360\u001b[0m     x \u001b[38;5;241m=\u001b[39m x[:, np\u001b[38;5;241m.\u001b[39masarray(\u001b[38;5;28mself\u001b[39m\u001b[38;5;241m.\u001b[39m_lags) \u001b[38;5;241m-\u001b[39m \u001b[38;5;241m1\u001b[39m]\n",
      "File \u001b[1;32mc:\\Users\\DELL\\anaconda3\\Lib\\site-packages\\statsmodels\\tsa\\ar_model.py:357\u001b[0m, in \u001b[0;36m<listcomp>\u001b[1;34m(.0)\u001b[0m\n\u001b[0;32m    354\u001b[0m endog_names \u001b[38;5;241m=\u001b[39m \u001b[38;5;28mself\u001b[39m\u001b[38;5;241m.\u001b[39mendog_names\n\u001b[0;32m    355\u001b[0m x, y \u001b[38;5;241m=\u001b[39m lagmat(\u001b[38;5;28mself\u001b[39m\u001b[38;5;241m.\u001b[39mendog, maxlag, original\u001b[38;5;241m=\u001b[39m\u001b[38;5;124m\"\u001b[39m\u001b[38;5;124msep\u001b[39m\u001b[38;5;124m\"\u001b[39m)\n\u001b[0;32m    356\u001b[0m exog_names\u001b[38;5;241m.\u001b[39mextend(\n\u001b[1;32m--> 357\u001b[0m     [endog_names \u001b[38;5;241m+\u001b[39m \u001b[38;5;124m\"\u001b[39m\u001b[38;5;124m.L\u001b[39m\u001b[38;5;132;01m{0}\u001b[39;00m\u001b[38;5;124m\"\u001b[39m\u001b[38;5;241m.\u001b[39mformat(lag) \u001b[38;5;28;01mfor\u001b[39;00m lag \u001b[38;5;129;01min\u001b[39;00m \u001b[38;5;28mself\u001b[39m\u001b[38;5;241m.\u001b[39m_lags]\n\u001b[0;32m    358\u001b[0m )\n\u001b[0;32m    359\u001b[0m \u001b[38;5;28;01mif\u001b[39;00m \u001b[38;5;28mlen\u001b[39m(\u001b[38;5;28mself\u001b[39m\u001b[38;5;241m.\u001b[39m_lags) \u001b[38;5;241m<\u001b[39m maxlag:\n\u001b[0;32m    360\u001b[0m     x \u001b[38;5;241m=\u001b[39m x[:, np\u001b[38;5;241m.\u001b[39masarray(\u001b[38;5;28mself\u001b[39m\u001b[38;5;241m.\u001b[39m_lags) \u001b[38;5;241m-\u001b[39m \u001b[38;5;241m1\u001b[39m]\n",
      "\u001b[1;31mTypeError\u001b[0m: can only concatenate list (not \"str\") to list"
     ]
    }
   ],
   "source": [
    "model = AutoReg(X_train, lags=1)\n",
    "results = model.fit()\n",
    "\n",
    "plt.plot(X_train, label='Actual')\n",
    "plt.plot(results.predict(), label='AR Model Predictions', linestyle='dashed')\n",
    "plt.xlabel('Time')\n",
    "plt.ylabel('Values')\n",
    "plt.legend()\n",
    "\n",
    "# Show the plot\n",
    "plt.show()\n"
   ]
  },
  {
   "cell_type": "markdown",
   "metadata": {},
   "source": [
    "#  ARIMA MODEL"
   ]
  },
  {
   "cell_type": "code",
   "execution_count": 27,
   "metadata": {},
   "outputs": [
    {
     "data": {
      "text/html": [
       "<div>\n",
       "<style scoped>\n",
       "    .dataframe tbody tr th:only-of-type {\n",
       "        vertical-align: middle;\n",
       "    }\n",
       "\n",
       "    .dataframe tbody tr th {\n",
       "        vertical-align: top;\n",
       "    }\n",
       "\n",
       "    .dataframe thead th {\n",
       "        text-align: right;\n",
       "    }\n",
       "</style>\n",
       "<table border=\"1\" class=\"dataframe\">\n",
       "  <thead>\n",
       "    <tr style=\"text-align: right;\">\n",
       "      <th></th>\n",
       "      <th>Model</th>\n",
       "      <th>RMSLE</th>\n",
       "      <th>RMSE</th>\n",
       "      <th>MSE</th>\n",
       "      <th>MAE</th>\n",
       "    </tr>\n",
       "  </thead>\n",
       "  <tbody>\n",
       "    <tr>\n",
       "      <th>0</th>\n",
       "      <td>ARIMA</td>\n",
       "      <td>3.39</td>\n",
       "      <td>1197.38</td>\n",
       "      <td>1433706.91</td>\n",
       "      <td>548.38</td>\n",
       "    </tr>\n",
       "  </tbody>\n",
       "</table>\n",
       "</div>"
      ],
      "text/plain": [
       "   Model  RMSLE     RMSE         MSE     MAE\n",
       "0  ARIMA   3.39  1197.38  1433706.91  548.38"
      ]
     },
     "execution_count": 27,
     "metadata": {},
     "output_type": "execute_result"
    }
   ],
   "source": [
    "# ARIMA Model\n",
    "# d and q are equal to zero as data is already stationary\n",
    "p = 1\n",
    "d = 0 \n",
    "q = 0  \n",
    "\n",
    "# Create an instance of the ARIMA model\n",
    "arima_model = ARIMA(y_train, order=(p, d, q))\n",
    "                    \n",
    "# Fit the model to the training data\n",
    "arima_model_fit = arima_model.fit()\n",
    "\n",
    "# Make predictions on the evaluation data\n",
    "arima_predictions = arima_model_fit.predict(start=len(y_train), end=len(y_train) + len(X_eval) - 1)\n",
    "\n",
    "# Calculate evaluation metrics\n",
    "arima_mse = mean_squared_error(y_eval, arima_predictions)\n",
    "arima_rmse = np.sqrt(arima_mse)\n",
    "\n",
    "# Apply the absolute value function to y_eval to remove negative signs\n",
    "y_eval_abs = abs(y_eval)\n",
    "arima_predictions_abs = abs(arima_predictions)\n",
    "\n",
    "# Calculate the Mean Absolute Error (MAE)\n",
    "arima_mae = mean_absolute_error(y_eval, arima_predictions)\n",
    "\n",
    "# Calculate the Root Mean Squared Logarithmic Error (RMSLE)\n",
    "arima_rmsle = np.sqrt(mean_squared_log_error(y_eval_abs, arima_predictions_abs))\n",
    "\n",
    "# Create a DataFrame to store results for ARIMA\n",
    "results_arima = pd.DataFrame({'Model': ['ARIMA'],\n",
    "                            'RMSLE': [arima_rmsle],\n",
    "                            'RMSE': [np.sqrt(arima_mse)],\n",
    "                            'MSE': [arima_mse],\n",
    "                            'MAE': [arima_mae]}).round(2)\n",
    "\n",
    "# Print the results_arima dataframe\n",
    "results_arima"
   ]
  },
  {
   "cell_type": "code",
   "execution_count": null,
   "metadata": {},
   "outputs": [],
   "source": [
    "# Initialize the results dataframe\n",
    "model_df = pd.DataFrame(columns=['Model', 'RMSLE', 'RMSE', 'MSE', 'MAE'])"
   ]
  },
  {
   "cell_type": "code",
   "execution_count": 4,
   "metadata": {},
   "outputs": [],
   "source": [
    "# from statsmodels.graphics.tsaplots import plot_pacf, plot_acf\n",
    "# pacf = plot_pacf(train_data['sales'], lags =10)\n",
    "# acf = plot_acf(train_data['sales'], lags =10)"
   ]
  }
 ],
 "metadata": {
  "kernelspec": {
   "display_name": "Python 3",
   "language": "python",
   "name": "python3"
  },
  "language_info": {
   "codemirror_mode": {
    "name": "ipython",
    "version": 3
   },
   "file_extension": ".py",
   "mimetype": "text/x-python",
   "name": "python",
   "nbconvert_exporter": "python",
   "pygments_lexer": "ipython3",
   "version": "3.11.4"
  }
 },
 "nbformat": 4,
 "nbformat_minor": 2
}
